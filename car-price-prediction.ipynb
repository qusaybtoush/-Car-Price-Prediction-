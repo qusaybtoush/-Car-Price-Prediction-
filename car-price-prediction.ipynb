{
 "cells": [
  {
   "cell_type": "markdown",
   "id": "c54e2adc",
   "metadata": {
    "papermill": {
     "duration": 0.018822,
     "end_time": "2022-11-27T19:02:47.291019",
     "exception": false,
     "start_time": "2022-11-27T19:02:47.272197",
     "status": "completed"
    },
    "tags": []
   },
   "source": [
    "<a id='top'></a>\n",
    "<div class=\"list-group\" id=\"list-tab\" role=\"tablist\">\n",
    "<p style=\"background-color:#FFEECC;font-family:sans-serif;color:#FFffxx;font-size:250%;text-align:center;border-radius:15px 15px;\"> ✨ 😄 Car Price Prediction 🚗🚗 </p>"
   ]
  },
  {
   "cell_type": "markdown",
   "id": "6abd70e5",
   "metadata": {
    "execution": {
     "iopub.execute_input": "2022-11-27T17:21:18.792205Z",
     "iopub.status.busy": "2022-11-27T17:21:18.791142Z",
     "iopub.status.idle": "2022-11-27T17:21:18.799653Z",
     "shell.execute_reply": "2022-11-27T17:21:18.797982Z",
     "shell.execute_reply.started": "2022-11-27T17:21:18.792156Z"
    },
    "papermill": {
     "duration": 0.01898,
     "end_time": "2022-11-27T19:02:47.328562",
     "exception": false,
     "start_time": "2022-11-27T19:02:47.309582",
     "status": "completed"
    },
    "tags": []
   },
   "source": [
    "<img src=\"https://media.giphy.com/media/1zRfp0Jwsag4yPekP4/giphy.gif\" length=1000 width=1300>\n"
   ]
  },
  {
   "cell_type": "markdown",
   "id": "cfcec38c",
   "metadata": {
    "papermill": {
     "duration": 0.016725,
     "end_time": "2022-11-27T19:02:47.362465",
     "exception": false,
     "start_time": "2022-11-27T19:02:47.345740",
     "status": "completed"
    },
    "tags": []
   },
   "source": [
    "<font size=\"+3\" color='#059c99'><b> ✨Introduction 😃😃 </b></font>\n",
    "## About Dataset\n",
    "\n",
    "### Problem Statement\n",
    "\n",
    "- A Chinese automobile company Geely Auto aspires to enter the US market by setting up their manufacturing unit there and producing cars locally to give competition to their US and European counterparts.\n",
    "\n",
    "- They have contracted an automobile consulting company to understand the factors on which the pricing of cars depends. Specifically, they want to understand the factors affecting the pricing of cars in the American market, since those may be very different from the Chinese market. The company wants to know:\n",
    "\n",
    "- Which variables are significant in predicting the price of a car\n",
    "- How well those variables describe the price of a car\n",
    "- Based on various market surveys, the consulting firm has gathered a large data set of different types of cars across the America market.\n",
    "\n",
    "### Business Goal\n",
    "- We are required to model the price of cars with the available independent variables. It will be used by the management to understand how exactly the prices vary with the independent variables. They can accordingly manipulate the design of the cars, the business strategy etc. to meet certain price levels. Further, the model will be a good way for management to understand the pricing dynamics of a new market."
   ]
  },
  {
   "cell_type": "markdown",
   "id": "77de4061",
   "metadata": {
    "papermill": {
     "duration": 0.016815,
     "end_time": "2022-11-27T19:02:47.398219",
     "exception": false,
     "start_time": "2022-11-27T19:02:47.381404",
     "status": "completed"
    },
    "tags": []
   },
   "source": [
    "## The Columns \n",
    "\n",
    "- Car_ID : \t\t\tUnique id of each observation (Interger)\t\t\n",
    "- Symboling :  \t\t\tIts assigned insurance risk rating, A value of +3 - Indicates that the auto is risky, -3 that it is probably pretty safe.\n",
    "- carCompany : \t\t\tName of car company (Categorical)\t\t\n",
    "- fueltype\t : \t\tCar fuel type i.e gas or diesel (Categorical)\t\t\n",
    "- aspiration : \t\t\tAspiration used in a car (Categorical)\t\t\n",
    "- doornumber : \t\t\tNumber of doors in a car (Categorical)\t\t\n",
    "- carbody\t : \t\tbody of car (Categorical)\t\t\n",
    "- drivewheel : \t\t\ttype of drive wheel (Categorical)\t\t\n",
    "- enginelocation\t : \t\tLocation of car engine (Categorical)\t\t\n",
    "- wheelbase\t : \t\tWeelbase of car (Numeric)\t\t\n",
    "- carlength\t : \t\tLength of car (Numeric)\t\t\n",
    "- carwidth\t : \t\tWidth of car (Numeric)\t\t\n",
    "- carheight\t : \t\theight of car (Numeric)\t\t\n",
    "- curbweight\t : \t\tThe weight of a car without occupants or baggage. (Numeric)\t\t\n",
    "- enginetype\t : \t\tType of engine. (Categorical)\t\t\n",
    "- cylindernumber\t : \t\tcylinder placed in the car (Categorical)\t\t\n",
    "- enginesize\t : \t\tSize of car (Numeric)\t\t\n",
    "- fuelsystem\t : \t\tFuel system of car (Categorical)\t\t\n",
    "- boreratio\t : \t\tBoreratio of car (Numeric)\t\t\n",
    "- stroke\t : \t\tStroke or volume inside the engine (Numeric)\t\t\n",
    "- compressionratio\t : \t\tcompression ratio of car (Numeric)\t\t\n",
    "- horsepower\t : \t\tHorsepower (Numeric)\t\t\n",
    "- peakrpm\t : \t\tcar peak rpm (Numeric)\t\t\n",
    "- citympg\t : \t\tMileage in city (Numeric)\t\t\n",
    "- highwaympg\t : \t\tMileage on highway (Numeric)\t\t\n",
    "- price(Dependent variable)\t\t : \tPrice of car (Numeric)\t\t\n"
   ]
  },
  {
   "cell_type": "markdown",
   "id": "8b96e9af",
   "metadata": {
    "papermill": {
     "duration": 0.018378,
     "end_time": "2022-11-27T19:02:47.435224",
     "exception": false,
     "start_time": "2022-11-27T19:02:47.416846",
     "status": "completed"
    },
    "tags": []
   },
   "source": [
    "# Work plan ❤️\n",
    "\n",
    "- Analyze and explore data 🤝\n",
    "- Data Visualization 🤝\n",
    "- Building Machine Model 🤝 "
   ]
  },
  {
   "cell_type": "markdown",
   "id": "a5d20fb6",
   "metadata": {
    "papermill": {
     "duration": 0.016972,
     "end_time": "2022-11-27T19:02:47.472033",
     "exception": false,
     "start_time": "2022-11-27T19:02:47.455061",
     "status": "completed"
    },
    "tags": []
   },
   "source": [
    "<font size=\"+2\" color=red ><b>Please Upvote my kernel if you like my work.</b></font>"
   ]
  },
  {
   "cell_type": "code",
   "execution_count": 1,
   "id": "87800361",
   "metadata": {
    "execution": {
     "iopub.execute_input": "2022-11-27T19:02:47.512631Z",
     "iopub.status.busy": "2022-11-27T19:02:47.511763Z",
     "iopub.status.idle": "2022-11-27T19:02:48.695250Z",
     "shell.execute_reply": "2022-11-27T19:02:48.693799Z"
    },
    "papermill": {
     "duration": 1.206923,
     "end_time": "2022-11-27T19:02:48.698102",
     "exception": false,
     "start_time": "2022-11-27T19:02:47.491179",
     "status": "completed"
    },
    "tags": []
   },
   "outputs": [],
   "source": [
    "#Importing the basic librarires fot analysis\n",
    "\n",
    "import numpy as np\n",
    "import pandas as pd\n",
    "import seaborn as sns\n",
    "import matplotlib.pyplot as plt\n",
    "plt.style.use(\"ggplot\")  #using style ggplot\n",
    "\n",
    "%matplotlib inline"
   ]
  },
  {
   "cell_type": "code",
   "execution_count": 2,
   "id": "e8f82f7b",
   "metadata": {
    "execution": {
     "iopub.execute_input": "2022-11-27T19:02:48.734653Z",
     "iopub.status.busy": "2022-11-27T19:02:48.734178Z",
     "iopub.status.idle": "2022-11-27T19:02:48.795280Z",
     "shell.execute_reply": "2022-11-27T19:02:48.794120Z"
    },
    "papermill": {
     "duration": 0.082424,
     "end_time": "2022-11-27T19:02:48.797877",
     "exception": false,
     "start_time": "2022-11-27T19:02:48.715453",
     "status": "completed"
    },
    "tags": []
   },
   "outputs": [
    {
     "data": {
      "text/html": [
       "<div>\n",
       "<style scoped>\n",
       "    .dataframe tbody tr th:only-of-type {\n",
       "        vertical-align: middle;\n",
       "    }\n",
       "\n",
       "    .dataframe tbody tr th {\n",
       "        vertical-align: top;\n",
       "    }\n",
       "\n",
       "    .dataframe thead th {\n",
       "        text-align: right;\n",
       "    }\n",
       "</style>\n",
       "<table border=\"1\" class=\"dataframe\">\n",
       "  <thead>\n",
       "    <tr style=\"text-align: right;\">\n",
       "      <th></th>\n",
       "      <th>car_ID</th>\n",
       "      <th>symboling</th>\n",
       "      <th>CarName</th>\n",
       "      <th>fueltype</th>\n",
       "      <th>aspiration</th>\n",
       "      <th>doornumber</th>\n",
       "      <th>carbody</th>\n",
       "      <th>drivewheel</th>\n",
       "      <th>enginelocation</th>\n",
       "      <th>wheelbase</th>\n",
       "      <th>...</th>\n",
       "      <th>enginesize</th>\n",
       "      <th>fuelsystem</th>\n",
       "      <th>boreratio</th>\n",
       "      <th>stroke</th>\n",
       "      <th>compressionratio</th>\n",
       "      <th>horsepower</th>\n",
       "      <th>peakrpm</th>\n",
       "      <th>citympg</th>\n",
       "      <th>highwaympg</th>\n",
       "      <th>price</th>\n",
       "    </tr>\n",
       "  </thead>\n",
       "  <tbody>\n",
       "    <tr>\n",
       "      <th>0</th>\n",
       "      <td>1</td>\n",
       "      <td>3</td>\n",
       "      <td>alfa-romero giulia</td>\n",
       "      <td>gas</td>\n",
       "      <td>std</td>\n",
       "      <td>two</td>\n",
       "      <td>convertible</td>\n",
       "      <td>rwd</td>\n",
       "      <td>front</td>\n",
       "      <td>88.6</td>\n",
       "      <td>...</td>\n",
       "      <td>130</td>\n",
       "      <td>mpfi</td>\n",
       "      <td>3.47</td>\n",
       "      <td>2.68</td>\n",
       "      <td>9.0</td>\n",
       "      <td>111</td>\n",
       "      <td>5000</td>\n",
       "      <td>21</td>\n",
       "      <td>27</td>\n",
       "      <td>13495.0</td>\n",
       "    </tr>\n",
       "    <tr>\n",
       "      <th>1</th>\n",
       "      <td>2</td>\n",
       "      <td>3</td>\n",
       "      <td>alfa-romero stelvio</td>\n",
       "      <td>gas</td>\n",
       "      <td>std</td>\n",
       "      <td>two</td>\n",
       "      <td>convertible</td>\n",
       "      <td>rwd</td>\n",
       "      <td>front</td>\n",
       "      <td>88.6</td>\n",
       "      <td>...</td>\n",
       "      <td>130</td>\n",
       "      <td>mpfi</td>\n",
       "      <td>3.47</td>\n",
       "      <td>2.68</td>\n",
       "      <td>9.0</td>\n",
       "      <td>111</td>\n",
       "      <td>5000</td>\n",
       "      <td>21</td>\n",
       "      <td>27</td>\n",
       "      <td>16500.0</td>\n",
       "    </tr>\n",
       "    <tr>\n",
       "      <th>2</th>\n",
       "      <td>3</td>\n",
       "      <td>1</td>\n",
       "      <td>alfa-romero Quadrifoglio</td>\n",
       "      <td>gas</td>\n",
       "      <td>std</td>\n",
       "      <td>two</td>\n",
       "      <td>hatchback</td>\n",
       "      <td>rwd</td>\n",
       "      <td>front</td>\n",
       "      <td>94.5</td>\n",
       "      <td>...</td>\n",
       "      <td>152</td>\n",
       "      <td>mpfi</td>\n",
       "      <td>2.68</td>\n",
       "      <td>3.47</td>\n",
       "      <td>9.0</td>\n",
       "      <td>154</td>\n",
       "      <td>5000</td>\n",
       "      <td>19</td>\n",
       "      <td>26</td>\n",
       "      <td>16500.0</td>\n",
       "    </tr>\n",
       "    <tr>\n",
       "      <th>3</th>\n",
       "      <td>4</td>\n",
       "      <td>2</td>\n",
       "      <td>audi 100 ls</td>\n",
       "      <td>gas</td>\n",
       "      <td>std</td>\n",
       "      <td>four</td>\n",
       "      <td>sedan</td>\n",
       "      <td>fwd</td>\n",
       "      <td>front</td>\n",
       "      <td>99.8</td>\n",
       "      <td>...</td>\n",
       "      <td>109</td>\n",
       "      <td>mpfi</td>\n",
       "      <td>3.19</td>\n",
       "      <td>3.40</td>\n",
       "      <td>10.0</td>\n",
       "      <td>102</td>\n",
       "      <td>5500</td>\n",
       "      <td>24</td>\n",
       "      <td>30</td>\n",
       "      <td>13950.0</td>\n",
       "    </tr>\n",
       "    <tr>\n",
       "      <th>4</th>\n",
       "      <td>5</td>\n",
       "      <td>2</td>\n",
       "      <td>audi 100ls</td>\n",
       "      <td>gas</td>\n",
       "      <td>std</td>\n",
       "      <td>four</td>\n",
       "      <td>sedan</td>\n",
       "      <td>4wd</td>\n",
       "      <td>front</td>\n",
       "      <td>99.4</td>\n",
       "      <td>...</td>\n",
       "      <td>136</td>\n",
       "      <td>mpfi</td>\n",
       "      <td>3.19</td>\n",
       "      <td>3.40</td>\n",
       "      <td>8.0</td>\n",
       "      <td>115</td>\n",
       "      <td>5500</td>\n",
       "      <td>18</td>\n",
       "      <td>22</td>\n",
       "      <td>17450.0</td>\n",
       "    </tr>\n",
       "  </tbody>\n",
       "</table>\n",
       "<p>5 rows × 26 columns</p>\n",
       "</div>"
      ],
      "text/plain": [
       "   car_ID  symboling                   CarName fueltype aspiration doornumber  \\\n",
       "0       1          3        alfa-romero giulia      gas        std        two   \n",
       "1       2          3       alfa-romero stelvio      gas        std        two   \n",
       "2       3          1  alfa-romero Quadrifoglio      gas        std        two   \n",
       "3       4          2               audi 100 ls      gas        std       four   \n",
       "4       5          2                audi 100ls      gas        std       four   \n",
       "\n",
       "       carbody drivewheel enginelocation  wheelbase  ...  enginesize  \\\n",
       "0  convertible        rwd          front       88.6  ...         130   \n",
       "1  convertible        rwd          front       88.6  ...         130   \n",
       "2    hatchback        rwd          front       94.5  ...         152   \n",
       "3        sedan        fwd          front       99.8  ...         109   \n",
       "4        sedan        4wd          front       99.4  ...         136   \n",
       "\n",
       "   fuelsystem  boreratio  stroke compressionratio horsepower  peakrpm citympg  \\\n",
       "0        mpfi       3.47    2.68              9.0        111     5000      21   \n",
       "1        mpfi       3.47    2.68              9.0        111     5000      21   \n",
       "2        mpfi       2.68    3.47              9.0        154     5000      19   \n",
       "3        mpfi       3.19    3.40             10.0        102     5500      24   \n",
       "4        mpfi       3.19    3.40              8.0        115     5500      18   \n",
       "\n",
       "   highwaympg    price  \n",
       "0          27  13495.0  \n",
       "1          27  16500.0  \n",
       "2          26  16500.0  \n",
       "3          30  13950.0  \n",
       "4          22  17450.0  \n",
       "\n",
       "[5 rows x 26 columns]"
      ]
     },
     "execution_count": 2,
     "metadata": {},
     "output_type": "execute_result"
    }
   ],
   "source": [
    "#Importing the dataset\n",
    "\n",
    "df=pd.read_csv(\"/kaggle/input/car-price-prediction/CarPrice_Assignment.csv\")\n",
    "\n",
    "# look the dataset\n",
    "df.head()"
   ]
  },
  {
   "cell_type": "code",
   "execution_count": 3,
   "id": "1f2f8b95",
   "metadata": {
    "execution": {
     "iopub.execute_input": "2022-11-27T19:02:48.835280Z",
     "iopub.status.busy": "2022-11-27T19:02:48.834775Z",
     "iopub.status.idle": "2022-11-27T19:02:48.840727Z",
     "shell.execute_reply": "2022-11-27T19:02:48.839595Z"
    },
    "papermill": {
     "duration": 0.027704,
     "end_time": "2022-11-27T19:02:48.843284",
     "exception": false,
     "start_time": "2022-11-27T19:02:48.815580",
     "status": "completed"
    },
    "tags": []
   },
   "outputs": [
    {
     "name": "stdout",
     "output_type": "stream",
     "text": [
      "The Shape DataSet = (205, 26) \n"
     ]
    }
   ],
   "source": [
    "# looking the shape DataSet\n",
    "\n",
    "print(\"The Shape DataSet = {} \".format(df.shape))"
   ]
  },
  {
   "cell_type": "code",
   "execution_count": 4,
   "id": "ffa8e7f6",
   "metadata": {
    "execution": {
     "iopub.execute_input": "2022-11-27T19:02:48.881345Z",
     "iopub.status.busy": "2022-11-27T19:02:48.880871Z",
     "iopub.status.idle": "2022-11-27T19:02:48.909479Z",
     "shell.execute_reply": "2022-11-27T19:02:48.907652Z"
    },
    "papermill": {
     "duration": 0.051173,
     "end_time": "2022-11-27T19:02:48.912882",
     "exception": false,
     "start_time": "2022-11-27T19:02:48.861709",
     "status": "completed"
    },
    "tags": []
   },
   "outputs": [
    {
     "name": "stdout",
     "output_type": "stream",
     "text": [
      "<class 'pandas.core.frame.DataFrame'>\n",
      "RangeIndex: 205 entries, 0 to 204\n",
      "Data columns (total 26 columns):\n",
      " #   Column            Non-Null Count  Dtype  \n",
      "---  ------            --------------  -----  \n",
      " 0   car_ID            205 non-null    int64  \n",
      " 1   symboling         205 non-null    int64  \n",
      " 2   CarName           205 non-null    object \n",
      " 3   fueltype          205 non-null    object \n",
      " 4   aspiration        205 non-null    object \n",
      " 5   doornumber        205 non-null    object \n",
      " 6   carbody           205 non-null    object \n",
      " 7   drivewheel        205 non-null    object \n",
      " 8   enginelocation    205 non-null    object \n",
      " 9   wheelbase         205 non-null    float64\n",
      " 10  carlength         205 non-null    float64\n",
      " 11  carwidth          205 non-null    float64\n",
      " 12  carheight         205 non-null    float64\n",
      " 13  curbweight        205 non-null    int64  \n",
      " 14  enginetype        205 non-null    object \n",
      " 15  cylindernumber    205 non-null    object \n",
      " 16  enginesize        205 non-null    int64  \n",
      " 17  fuelsystem        205 non-null    object \n",
      " 18  boreratio         205 non-null    float64\n",
      " 19  stroke            205 non-null    float64\n",
      " 20  compressionratio  205 non-null    float64\n",
      " 21  horsepower        205 non-null    int64  \n",
      " 22  peakrpm           205 non-null    int64  \n",
      " 23  citympg           205 non-null    int64  \n",
      " 24  highwaympg        205 non-null    int64  \n",
      " 25  price             205 non-null    float64\n",
      "dtypes: float64(8), int64(8), object(10)\n",
      "memory usage: 41.8+ KB\n"
     ]
    }
   ],
   "source": [
    "#Checking the dtypes of all the columns\n",
    "\n",
    "df.info()"
   ]
  },
  {
   "cell_type": "code",
   "execution_count": 5,
   "id": "af26c894",
   "metadata": {
    "execution": {
     "iopub.execute_input": "2022-11-27T19:02:48.950991Z",
     "iopub.status.busy": "2022-11-27T19:02:48.950526Z",
     "iopub.status.idle": "2022-11-27T19:02:48.961951Z",
     "shell.execute_reply": "2022-11-27T19:02:48.960641Z"
    },
    "papermill": {
     "duration": 0.032823,
     "end_time": "2022-11-27T19:02:48.964261",
     "exception": false,
     "start_time": "2022-11-27T19:02:48.931438",
     "status": "completed"
    },
    "tags": []
   },
   "outputs": [
    {
     "data": {
      "text/plain": [
       "car_ID              0\n",
       "symboling           0\n",
       "CarName             0\n",
       "fueltype            0\n",
       "aspiration          0\n",
       "doornumber          0\n",
       "carbody             0\n",
       "drivewheel          0\n",
       "enginelocation      0\n",
       "wheelbase           0\n",
       "carlength           0\n",
       "carwidth            0\n",
       "carheight           0\n",
       "curbweight          0\n",
       "enginetype          0\n",
       "cylindernumber      0\n",
       "enginesize          0\n",
       "fuelsystem          0\n",
       "boreratio           0\n",
       "stroke              0\n",
       "compressionratio    0\n",
       "horsepower          0\n",
       "peakrpm             0\n",
       "citympg             0\n",
       "highwaympg          0\n",
       "price               0\n",
       "dtype: int64"
      ]
     },
     "execution_count": 5,
     "metadata": {},
     "output_type": "execute_result"
    }
   ],
   "source": [
    "#checking null value \n",
    "\n",
    "df.isnull().sum()"
   ]
  },
  {
   "cell_type": "markdown",
   "id": "9e3ff721",
   "metadata": {
    "papermill": {
     "duration": 0.01743,
     "end_time": "2022-11-27T19:02:48.999642",
     "exception": false,
     "start_time": "2022-11-27T19:02:48.982212",
     "status": "completed"
    },
    "tags": []
   },
   "source": [
    "- No null value"
   ]
  },
  {
   "cell_type": "code",
   "execution_count": 6,
   "id": "a4c23838",
   "metadata": {
    "execution": {
     "iopub.execute_input": "2022-11-27T19:02:49.037883Z",
     "iopub.status.busy": "2022-11-27T19:02:49.036816Z",
     "iopub.status.idle": "2022-11-27T19:02:49.063743Z",
     "shell.execute_reply": "2022-11-27T19:02:49.061910Z"
    },
    "papermill": {
     "duration": 0.05188,
     "end_time": "2022-11-27T19:02:49.069606",
     "exception": false,
     "start_time": "2022-11-27T19:02:49.017726",
     "status": "completed"
    },
    "tags": []
   },
   "outputs": [
    {
     "data": {
      "text/plain": [
       "0"
      ]
     },
     "execution_count": 6,
     "metadata": {},
     "output_type": "execute_result"
    }
   ],
   "source": [
    "#checking duplicated value \n",
    "\n",
    "df.duplicated().sum()"
   ]
  },
  {
   "cell_type": "markdown",
   "id": "4de6c792",
   "metadata": {
    "papermill": {
     "duration": 0.025785,
     "end_time": "2022-11-27T19:02:49.116249",
     "exception": false,
     "start_time": "2022-11-27T19:02:49.090464",
     "status": "completed"
    },
    "tags": []
   },
   "source": [
    "- No Duplicated value"
   ]
  },
  {
   "cell_type": "code",
   "execution_count": 7,
   "id": "a5181c79",
   "metadata": {
    "execution": {
     "iopub.execute_input": "2022-11-27T19:02:49.163469Z",
     "iopub.status.busy": "2022-11-27T19:02:49.162974Z",
     "iopub.status.idle": "2022-11-27T19:02:49.230419Z",
     "shell.execute_reply": "2022-11-27T19:02:49.229181Z"
    },
    "papermill": {
     "duration": 0.094322,
     "end_time": "2022-11-27T19:02:49.232860",
     "exception": false,
     "start_time": "2022-11-27T19:02:49.138538",
     "status": "completed"
    },
    "tags": []
   },
   "outputs": [
    {
     "data": {
      "text/html": [
       "<div>\n",
       "<style scoped>\n",
       "    .dataframe tbody tr th:only-of-type {\n",
       "        vertical-align: middle;\n",
       "    }\n",
       "\n",
       "    .dataframe tbody tr th {\n",
       "        vertical-align: top;\n",
       "    }\n",
       "\n",
       "    .dataframe thead th {\n",
       "        text-align: right;\n",
       "    }\n",
       "</style>\n",
       "<table border=\"1\" class=\"dataframe\">\n",
       "  <thead>\n",
       "    <tr style=\"text-align: right;\">\n",
       "      <th></th>\n",
       "      <th>car_ID</th>\n",
       "      <th>symboling</th>\n",
       "      <th>wheelbase</th>\n",
       "      <th>carlength</th>\n",
       "      <th>carwidth</th>\n",
       "      <th>carheight</th>\n",
       "      <th>curbweight</th>\n",
       "      <th>enginesize</th>\n",
       "      <th>boreratio</th>\n",
       "      <th>stroke</th>\n",
       "      <th>compressionratio</th>\n",
       "      <th>horsepower</th>\n",
       "      <th>peakrpm</th>\n",
       "      <th>citympg</th>\n",
       "      <th>highwaympg</th>\n",
       "      <th>price</th>\n",
       "    </tr>\n",
       "  </thead>\n",
       "  <tbody>\n",
       "    <tr>\n",
       "      <th>count</th>\n",
       "      <td>205.00</td>\n",
       "      <td>205.00</td>\n",
       "      <td>205.00</td>\n",
       "      <td>205.00</td>\n",
       "      <td>205.00</td>\n",
       "      <td>205.00</td>\n",
       "      <td>205.00</td>\n",
       "      <td>205.00</td>\n",
       "      <td>205.00</td>\n",
       "      <td>205.00</td>\n",
       "      <td>205.00</td>\n",
       "      <td>205.00</td>\n",
       "      <td>205.00</td>\n",
       "      <td>205.00</td>\n",
       "      <td>205.00</td>\n",
       "      <td>205.00</td>\n",
       "    </tr>\n",
       "    <tr>\n",
       "      <th>mean</th>\n",
       "      <td>103.00</td>\n",
       "      <td>0.83</td>\n",
       "      <td>98.76</td>\n",
       "      <td>174.05</td>\n",
       "      <td>65.91</td>\n",
       "      <td>53.72</td>\n",
       "      <td>2555.57</td>\n",
       "      <td>126.91</td>\n",
       "      <td>3.33</td>\n",
       "      <td>3.26</td>\n",
       "      <td>10.14</td>\n",
       "      <td>104.12</td>\n",
       "      <td>5125.12</td>\n",
       "      <td>25.22</td>\n",
       "      <td>30.75</td>\n",
       "      <td>13276.71</td>\n",
       "    </tr>\n",
       "    <tr>\n",
       "      <th>std</th>\n",
       "      <td>59.32</td>\n",
       "      <td>1.25</td>\n",
       "      <td>6.02</td>\n",
       "      <td>12.34</td>\n",
       "      <td>2.15</td>\n",
       "      <td>2.44</td>\n",
       "      <td>520.68</td>\n",
       "      <td>41.64</td>\n",
       "      <td>0.27</td>\n",
       "      <td>0.31</td>\n",
       "      <td>3.97</td>\n",
       "      <td>39.54</td>\n",
       "      <td>476.99</td>\n",
       "      <td>6.54</td>\n",
       "      <td>6.89</td>\n",
       "      <td>7988.85</td>\n",
       "    </tr>\n",
       "    <tr>\n",
       "      <th>min</th>\n",
       "      <td>1.00</td>\n",
       "      <td>-2.00</td>\n",
       "      <td>86.60</td>\n",
       "      <td>141.10</td>\n",
       "      <td>60.30</td>\n",
       "      <td>47.80</td>\n",
       "      <td>1488.00</td>\n",
       "      <td>61.00</td>\n",
       "      <td>2.54</td>\n",
       "      <td>2.07</td>\n",
       "      <td>7.00</td>\n",
       "      <td>48.00</td>\n",
       "      <td>4150.00</td>\n",
       "      <td>13.00</td>\n",
       "      <td>16.00</td>\n",
       "      <td>5118.00</td>\n",
       "    </tr>\n",
       "    <tr>\n",
       "      <th>25%</th>\n",
       "      <td>52.00</td>\n",
       "      <td>0.00</td>\n",
       "      <td>94.50</td>\n",
       "      <td>166.30</td>\n",
       "      <td>64.10</td>\n",
       "      <td>52.00</td>\n",
       "      <td>2145.00</td>\n",
       "      <td>97.00</td>\n",
       "      <td>3.15</td>\n",
       "      <td>3.11</td>\n",
       "      <td>8.60</td>\n",
       "      <td>70.00</td>\n",
       "      <td>4800.00</td>\n",
       "      <td>19.00</td>\n",
       "      <td>25.00</td>\n",
       "      <td>7788.00</td>\n",
       "    </tr>\n",
       "    <tr>\n",
       "      <th>50%</th>\n",
       "      <td>103.00</td>\n",
       "      <td>1.00</td>\n",
       "      <td>97.00</td>\n",
       "      <td>173.20</td>\n",
       "      <td>65.50</td>\n",
       "      <td>54.10</td>\n",
       "      <td>2414.00</td>\n",
       "      <td>120.00</td>\n",
       "      <td>3.31</td>\n",
       "      <td>3.29</td>\n",
       "      <td>9.00</td>\n",
       "      <td>95.00</td>\n",
       "      <td>5200.00</td>\n",
       "      <td>24.00</td>\n",
       "      <td>30.00</td>\n",
       "      <td>10295.00</td>\n",
       "    </tr>\n",
       "    <tr>\n",
       "      <th>75%</th>\n",
       "      <td>154.00</td>\n",
       "      <td>2.00</td>\n",
       "      <td>102.40</td>\n",
       "      <td>183.10</td>\n",
       "      <td>66.90</td>\n",
       "      <td>55.50</td>\n",
       "      <td>2935.00</td>\n",
       "      <td>141.00</td>\n",
       "      <td>3.58</td>\n",
       "      <td>3.41</td>\n",
       "      <td>9.40</td>\n",
       "      <td>116.00</td>\n",
       "      <td>5500.00</td>\n",
       "      <td>30.00</td>\n",
       "      <td>34.00</td>\n",
       "      <td>16503.00</td>\n",
       "    </tr>\n",
       "    <tr>\n",
       "      <th>max</th>\n",
       "      <td>205.00</td>\n",
       "      <td>3.00</td>\n",
       "      <td>120.90</td>\n",
       "      <td>208.10</td>\n",
       "      <td>72.30</td>\n",
       "      <td>59.80</td>\n",
       "      <td>4066.00</td>\n",
       "      <td>326.00</td>\n",
       "      <td>3.94</td>\n",
       "      <td>4.17</td>\n",
       "      <td>23.00</td>\n",
       "      <td>288.00</td>\n",
       "      <td>6600.00</td>\n",
       "      <td>49.00</td>\n",
       "      <td>54.00</td>\n",
       "      <td>45400.00</td>\n",
       "    </tr>\n",
       "  </tbody>\n",
       "</table>\n",
       "</div>"
      ],
      "text/plain": [
       "       car_ID  symboling  wheelbase  carlength  carwidth  carheight  \\\n",
       "count  205.00     205.00     205.00     205.00    205.00     205.00   \n",
       "mean   103.00       0.83      98.76     174.05     65.91      53.72   \n",
       "std     59.32       1.25       6.02      12.34      2.15       2.44   \n",
       "min      1.00      -2.00      86.60     141.10     60.30      47.80   \n",
       "25%     52.00       0.00      94.50     166.30     64.10      52.00   \n",
       "50%    103.00       1.00      97.00     173.20     65.50      54.10   \n",
       "75%    154.00       2.00     102.40     183.10     66.90      55.50   \n",
       "max    205.00       3.00     120.90     208.10     72.30      59.80   \n",
       "\n",
       "       curbweight  enginesize  boreratio  stroke  compressionratio  \\\n",
       "count      205.00      205.00     205.00  205.00            205.00   \n",
       "mean      2555.57      126.91       3.33    3.26             10.14   \n",
       "std        520.68       41.64       0.27    0.31              3.97   \n",
       "min       1488.00       61.00       2.54    2.07              7.00   \n",
       "25%       2145.00       97.00       3.15    3.11              8.60   \n",
       "50%       2414.00      120.00       3.31    3.29              9.00   \n",
       "75%       2935.00      141.00       3.58    3.41              9.40   \n",
       "max       4066.00      326.00       3.94    4.17             23.00   \n",
       "\n",
       "       horsepower  peakrpm  citympg  highwaympg     price  \n",
       "count      205.00   205.00   205.00      205.00    205.00  \n",
       "mean       104.12  5125.12    25.22       30.75  13276.71  \n",
       "std         39.54   476.99     6.54        6.89   7988.85  \n",
       "min         48.00  4150.00    13.00       16.00   5118.00  \n",
       "25%         70.00  4800.00    19.00       25.00   7788.00  \n",
       "50%         95.00  5200.00    24.00       30.00  10295.00  \n",
       "75%        116.00  5500.00    30.00       34.00  16503.00  \n",
       "max        288.00  6600.00    49.00       54.00  45400.00  "
      ]
     },
     "execution_count": 7,
     "metadata": {},
     "output_type": "execute_result"
    }
   ],
   "source": [
    "# looking describe dataset\n",
    "\n",
    "df.describe().round(2)"
   ]
  },
  {
   "cell_type": "code",
   "execution_count": 8,
   "id": "70b80939",
   "metadata": {
    "execution": {
     "iopub.execute_input": "2022-11-27T19:02:49.271900Z",
     "iopub.status.busy": "2022-11-27T19:02:49.271186Z",
     "iopub.status.idle": "2022-11-27T19:02:49.282399Z",
     "shell.execute_reply": "2022-11-27T19:02:49.281383Z"
    },
    "papermill": {
     "duration": 0.033265,
     "end_time": "2022-11-27T19:02:49.284587",
     "exception": false,
     "start_time": "2022-11-27T19:02:49.251322",
     "status": "completed"
    },
    "tags": []
   },
   "outputs": [
    {
     "data": {
      "text/plain": [
       "count      205.00\n",
       "mean     13276.71\n",
       "std       7988.85\n",
       "min       5118.00\n",
       "25%       7788.00\n",
       "50%      10295.00\n",
       "75%      16503.00\n",
       "max      45400.00\n",
       "Name: price, dtype: float64"
      ]
     },
     "execution_count": 8,
     "metadata": {},
     "output_type": "execute_result"
    }
   ],
   "source": [
    "# Describe price value\n",
    "\n",
    "df[\"price\"].describe().round(2)"
   ]
  },
  {
   "cell_type": "markdown",
   "id": "12881dd5",
   "metadata": {
    "papermill": {
     "duration": 0.018283,
     "end_time": "2022-11-27T19:02:49.320991",
     "exception": false,
     "start_time": "2022-11-27T19:02:49.302708",
     "status": "completed"
    },
    "tags": []
   },
   "source": [
    "- Avg price = 13276\n",
    "- Min price = 5118\n",
    "- Max price = 45400"
   ]
  },
  {
   "cell_type": "code",
   "execution_count": 9,
   "id": "423709aa",
   "metadata": {
    "execution": {
     "iopub.execute_input": "2022-11-27T19:02:49.360233Z",
     "iopub.status.busy": "2022-11-27T19:02:49.359492Z",
     "iopub.status.idle": "2022-11-27T19:02:49.365974Z",
     "shell.execute_reply": "2022-11-27T19:02:49.365049Z"
    },
    "papermill": {
     "duration": 0.028671,
     "end_time": "2022-11-27T19:02:49.368330",
     "exception": false,
     "start_time": "2022-11-27T19:02:49.339659",
     "status": "completed"
    },
    "tags": []
   },
   "outputs": [],
   "source": [
    "# drop colume car ID \\ I don`t need this colume \n",
    "\n",
    "df.drop(columns=\"car_ID\",inplace=True)"
   ]
  },
  {
   "cell_type": "markdown",
   "id": "0cf163d9",
   "metadata": {
    "papermill": {
     "duration": 0.018072,
     "end_time": "2022-11-27T19:02:49.405042",
     "exception": false,
     "start_time": "2022-11-27T19:02:49.386970",
     "status": "completed"
    },
    "tags": []
   },
   "source": [
    "<font size=\"+3\" color='#059c99'><b> Some Visualizations </b></font>"
   ]
  },
  {
   "cell_type": "code",
   "execution_count": 10,
   "id": "78e3c235",
   "metadata": {
    "execution": {
     "iopub.execute_input": "2022-11-27T19:02:49.444829Z",
     "iopub.status.busy": "2022-11-27T19:02:49.444108Z",
     "iopub.status.idle": "2022-11-27T19:02:51.761739Z",
     "shell.execute_reply": "2022-11-27T19:02:51.760352Z"
    },
    "papermill": {
     "duration": 2.341974,
     "end_time": "2022-11-27T19:02:51.765336",
     "exception": false,
     "start_time": "2022-11-27T19:02:49.423362",
     "status": "completed"
    },
    "tags": []
   },
   "outputs": [
    {
     "name": "stderr",
     "output_type": "stream",
     "text": [
      "/opt/conda/lib/python3.7/site-packages/seaborn/_decorators.py:43: FutureWarning: Pass the following variable as a keyword arg: x. From version 0.12, the only valid positional argument will be `data`, and passing other arguments without an explicit keyword will result in an error or misinterpretation.\n",
      "  FutureWarning\n"
     ]
    },
    {
     "data": {
      "image/png": "[encoded data removed]",
      "text/plain": [
       "<Figure size 2160x720 with 1 Axes>"
      ]
     },
     "metadata": {
      "needs_background": "light"
     },
     "output_type": "display_data"
    }
   ],
   "source": [
    "# Which most car name repeats in the Dataset\n",
    "plt.figure(figsize = [30, 10])\n",
    "sns.countplot(df[\"CarName\"],order = df[\"CarName\"].value_counts().index)\n",
    "plt.xticks(rotation=90)\n",
    "plt.show()"
   ]
  },
  {
   "cell_type": "markdown",
   "id": "f28fa336",
   "metadata": {
    "papermill": {
     "duration": 0.020499,
     "end_time": "2022-11-27T19:02:51.808137",
     "exception": false,
     "start_time": "2022-11-27T19:02:51.787638",
     "status": "completed"
    },
    "tags": []
   },
   "source": [
    "- The famous or repeats car > Toyota"
   ]
  },
  {
   "cell_type": "code",
   "execution_count": 11,
   "id": "2f70f234",
   "metadata": {
    "execution": {
     "iopub.execute_input": "2022-11-27T19:02:51.852766Z",
     "iopub.status.busy": "2022-11-27T19:02:51.851426Z",
     "iopub.status.idle": "2022-11-27T19:02:52.059719Z",
     "shell.execute_reply": "2022-11-27T19:02:52.057977Z"
    },
    "papermill": {
     "duration": 0.235122,
     "end_time": "2022-11-27T19:02:52.063971",
     "exception": false,
     "start_time": "2022-11-27T19:02:51.828849",
     "status": "completed"
    },
    "tags": []
   },
   "outputs": [
    {
     "data": {
      "text/plain": [
       "Text(0.5, 1.0, 'show which more using Fuel Type ')"
      ]
     },
     "execution_count": 11,
     "metadata": {},
     "output_type": "execute_result"
    },
    {
     "data": {
      "image/png": "[encoded data removed]",
      "text/plain": [
       "<Figure size 504x504 with 1 Axes>"
      ]
     },
     "metadata": {},
     "output_type": "display_data"
    }
   ],
   "source": [
    "#show which more using Fuel Type \n",
    "\n",
    "plt.figure(figsize = [7, 7], clear = True, facecolor = \"#ABB2B9\")\n",
    "df[\"fueltype\"].value_counts().plot.pie( autopct='%1.3f%%', shadow = True);\n",
    "plt.title(\"show which more using Fuel Type \")"
   ]
  },
  {
   "cell_type": "code",
   "execution_count": 12,
   "id": "b749b613",
   "metadata": {
    "execution": {
     "iopub.execute_input": "2022-11-27T19:02:52.139155Z",
     "iopub.status.busy": "2022-11-27T19:02:52.138324Z",
     "iopub.status.idle": "2022-11-27T19:02:52.149001Z",
     "shell.execute_reply": "2022-11-27T19:02:52.148227Z"
    },
    "papermill": {
     "duration": 0.036806,
     "end_time": "2022-11-27T19:02:52.151025",
     "exception": false,
     "start_time": "2022-11-27T19:02:52.114219",
     "status": "completed"
    },
    "tags": []
   },
   "outputs": [
    {
     "data": {
      "text/plain": [
       "fueltype\n",
       "diesel    15838.1500\n",
       "gas       12999.7982\n",
       "Name: price, dtype: float64"
      ]
     },
     "execution_count": 12,
     "metadata": {},
     "output_type": "execute_result"
    }
   ],
   "source": [
    "# Average price depends on the fuel type\n",
    "\n",
    "FP = df.groupby(\"fueltype\")[\"price\"].mean()\n",
    "FP\n"
   ]
  },
  {
   "cell_type": "code",
   "execution_count": 13,
   "id": "c5b726c4",
   "metadata": {
    "execution": {
     "iopub.execute_input": "2022-11-27T19:02:52.196390Z",
     "iopub.status.busy": "2022-11-27T19:02:52.195560Z",
     "iopub.status.idle": "2022-11-27T19:02:52.408972Z",
     "shell.execute_reply": "2022-11-27T19:02:52.407431Z"
    },
    "papermill": {
     "duration": 0.239211,
     "end_time": "2022-11-27T19:02:52.411630",
     "exception": false,
     "start_time": "2022-11-27T19:02:52.172419",
     "status": "completed"
    },
    "tags": []
   },
   "outputs": [
    {
     "data": {
      "text/plain": [
       "<AxesSubplot:xlabel='fueltype'>"
      ]
     },
     "execution_count": 13,
     "metadata": {},
     "output_type": "execute_result"
    },
    {
     "data": {
      "image/png": "[encoded data removed]",
      "text/plain": [
       "<Figure size 432x288 with 1 Axes>"
      ]
     },
     "metadata": {
      "needs_background": "light"
     },
     "output_type": "display_data"
    }
   ],
   "source": [
    "# create graph \n",
    "FP.plot(kind=\"bar\")\n"
   ]
  },
  {
   "cell_type": "markdown",
   "id": "b5f5b9d6",
   "metadata": {
    "papermill": {
     "duration": 0.021755,
     "end_time": "2022-11-27T19:02:52.456795",
     "exception": false,
     "start_time": "2022-11-27T19:02:52.435040",
     "status": "completed"
    },
    "tags": []
   },
   "source": [
    "- Most using car working in Gas around 90 % and the average price less than the car working in Diesel.\n",
    "- some category using the car working in Diesel around 10 % but the average price more than the car working in Gas."
   ]
  },
  {
   "cell_type": "code",
   "execution_count": 14,
   "id": "61140157",
   "metadata": {
    "execution": {
     "iopub.execute_input": "2022-11-27T19:02:52.502316Z",
     "iopub.status.busy": "2022-11-27T19:02:52.501822Z",
     "iopub.status.idle": "2022-11-27T19:02:52.667845Z",
     "shell.execute_reply": "2022-11-27T19:02:52.665883Z"
    },
    "papermill": {
     "duration": 0.19367,
     "end_time": "2022-11-27T19:02:52.672267",
     "exception": false,
     "start_time": "2022-11-27T19:02:52.478597",
     "status": "completed"
    },
    "tags": []
   },
   "outputs": [
    {
     "data": {
      "image/png": "[encoded data removed]",
      "text/plain": [
       "<Figure size 504x504 with 1 Axes>"
      ]
     },
     "metadata": {},
     "output_type": "display_data"
    }
   ],
   "source": [
    "# Which is most Aspiration repeats in the Dataset [ car Standard or car Turbo ]\n",
    "\n",
    "\n",
    "plt.figure(figsize = [7, 7], clear = True, facecolor = \"#ffffff\")\n",
    "df[\"aspiration\"].value_counts().plot.pie( autopct='%1.3f%%', shadow = True);"
   ]
  },
  {
   "cell_type": "code",
   "execution_count": 15,
   "id": "426795d5",
   "metadata": {
    "execution": {
     "iopub.execute_input": "2022-11-27T19:02:52.751930Z",
     "iopub.status.busy": "2022-11-27T19:02:52.751146Z",
     "iopub.status.idle": "2022-11-27T19:02:52.760391Z",
     "shell.execute_reply": "2022-11-27T19:02:52.759414Z"
    },
    "papermill": {
     "duration": 0.035502,
     "end_time": "2022-11-27T19:02:52.762538",
     "exception": false,
     "start_time": "2022-11-27T19:02:52.727036",
     "status": "completed"
    },
    "tags": []
   },
   "outputs": [
    {
     "data": {
      "text/plain": [
       "aspiration\n",
       "std      12611.270833\n",
       "turbo    16298.166676\n",
       "Name: price, dtype: float64"
      ]
     },
     "execution_count": 15,
     "metadata": {},
     "output_type": "execute_result"
    }
   ],
   "source": [
    "# Average price depends on Standard or Turbo\n",
    "\n",
    "SP = df.groupby(\"aspiration\")[\"price\"].mean()\n",
    "SP"
   ]
  },
  {
   "cell_type": "code",
   "execution_count": 16,
   "id": "917d0b1b",
   "metadata": {
    "execution": {
     "iopub.execute_input": "2022-11-27T19:02:52.810266Z",
     "iopub.status.busy": "2022-11-27T19:02:52.809511Z",
     "iopub.status.idle": "2022-11-27T19:02:53.019764Z",
     "shell.execute_reply": "2022-11-27T19:02:53.018574Z"
    },
    "papermill": {
     "duration": 0.236463,
     "end_time": "2022-11-27T19:02:53.022010",
     "exception": false,
     "start_time": "2022-11-27T19:02:52.785547",
     "status": "completed"
    },
    "tags": []
   },
   "outputs": [
    {
     "data": {
      "text/plain": [
       "<AxesSubplot:xlabel='aspiration'>"
      ]
     },
     "execution_count": 16,
     "metadata": {},
     "output_type": "execute_result"
    },
    {
     "data": {
      "image/png": "[encoded data removed]",
      "text/plain": [
       "<Figure size 432x288 with 1 Axes>"
      ]
     },
     "metadata": {
      "needs_background": "light"
     },
     "output_type": "display_data"
    }
   ],
   "source": [
    "# graph \n",
    "SP.plot(kind=\"bar\")"
   ]
  },
  {
   "cell_type": "markdown",
   "id": "c7a885a3",
   "metadata": {
    "papermill": {
     "duration": 0.023312,
     "end_time": "2022-11-27T19:02:53.069922",
     "exception": false,
     "start_time": "2022-11-27T19:02:53.046610",
     "status": "completed"
    },
    "tags": []
   },
   "source": [
    "- Most cars Stander around 82% also the average price less Turbo, the percentage turbo car around 18 %."
   ]
  },
  {
   "cell_type": "code",
   "execution_count": 17,
   "id": "e144ff57",
   "metadata": {
    "execution": {
     "iopub.execute_input": "2022-11-27T19:02:53.117867Z",
     "iopub.status.busy": "2022-11-27T19:02:53.117183Z",
     "iopub.status.idle": "2022-11-27T19:02:53.267195Z",
     "shell.execute_reply": "2022-11-27T19:02:53.265452Z"
    },
    "papermill": {
     "duration": 0.17873,
     "end_time": "2022-11-27T19:02:53.271542",
     "exception": false,
     "start_time": "2022-11-27T19:02:53.092812",
     "status": "completed"
    },
    "tags": []
   },
   "outputs": [
    {
     "data": {
      "image/png": "[encoded data removed]",
      "text/plain": [
       "<Figure size 504x504 with 1 Axes>"
      ]
     },
     "metadata": {},
     "output_type": "display_data"
    }
   ],
   "source": [
    "# Which is most Door Number repeats in the Dataset [2 or 4]\n",
    "\n",
    "plt.figure(figsize = [7, 7], clear = True, facecolor = \"#ffffff\")\n",
    "df[\"doornumber\"].value_counts().plot.pie( autopct='%1.3f%%', shadow = True);"
   ]
  },
  {
   "cell_type": "code",
   "execution_count": 18,
   "id": "8e25a4ef",
   "metadata": {
    "execution": {
     "iopub.execute_input": "2022-11-27T19:02:53.356440Z",
     "iopub.status.busy": "2022-11-27T19:02:53.355946Z",
     "iopub.status.idle": "2022-11-27T19:02:53.365186Z",
     "shell.execute_reply": "2022-11-27T19:02:53.364360Z"
    },
    "papermill": {
     "duration": 0.037818,
     "end_time": "2022-11-27T19:02:53.367331",
     "exception": false,
     "start_time": "2022-11-27T19:02:53.329513",
     "status": "completed"
    },
    "tags": []
   },
   "outputs": [
    {
     "data": {
      "text/plain": [
       "doornumber\n",
       "four    13501.152174\n",
       "two     12989.924078\n",
       "Name: price, dtype: float64"
      ]
     },
     "execution_count": 18,
     "metadata": {},
     "output_type": "execute_result"
    }
   ],
   "source": [
    "# the average price depends on door number \n",
    "\n",
    "DP = df.groupby(\"doornumber\")[\"price\"].mean()\n",
    "DP"
   ]
  },
  {
   "cell_type": "code",
   "execution_count": 19,
   "id": "873df18e",
   "metadata": {
    "execution": {
     "iopub.execute_input": "2022-11-27T19:02:53.418372Z",
     "iopub.status.busy": "2022-11-27T19:02:53.417493Z",
     "iopub.status.idle": "2022-11-27T19:02:53.625204Z",
     "shell.execute_reply": "2022-11-27T19:02:53.624203Z"
    },
    "papermill": {
     "duration": 0.235818,
     "end_time": "2022-11-27T19:02:53.627562",
     "exception": false,
     "start_time": "2022-11-27T19:02:53.391744",
     "status": "completed"
    },
    "tags": []
   },
   "outputs": [
    {
     "data": {
      "text/plain": [
       "<AxesSubplot:xlabel='doornumber'>"
      ]
     },
     "execution_count": 19,
     "metadata": {},
     "output_type": "execute_result"
    },
    {
     "data": {
      "image/png": "[encoded data removed]",
      "text/plain": [
       "<Figure size 432x288 with 1 Axes>"
      ]
     },
     "metadata": {
      "needs_background": "light"
     },
     "output_type": "display_data"
    }
   ],
   "source": [
    "# cerate graph \n",
    "\n",
    "DP.plot(kind=\"bar\")"
   ]
  },
  {
   "cell_type": "markdown",
   "id": "04c9cdba",
   "metadata": {
    "papermill": {
     "duration": 0.024289,
     "end_time": "2022-11-27T19:02:53.676618",
     "exception": false,
     "start_time": "2022-11-27T19:02:53.652329",
     "status": "completed"
    },
    "tags": []
   },
   "source": [
    "- around 56 % using car has 4 doors and 46% using car has 2 doors, sports car also the same average price."
   ]
  },
  {
   "cell_type": "code",
   "execution_count": 20,
   "id": "2b46ff49",
   "metadata": {
    "execution": {
     "iopub.execute_input": "2022-11-27T19:02:53.729125Z",
     "iopub.status.busy": "2022-11-27T19:02:53.728328Z",
     "iopub.status.idle": "2022-11-27T19:02:53.940591Z",
     "shell.execute_reply": "2022-11-27T19:02:53.939522Z"
    },
    "papermill": {
     "duration": 0.241321,
     "end_time": "2022-11-27T19:02:53.943030",
     "exception": false,
     "start_time": "2022-11-27T19:02:53.701709",
     "status": "completed"
    },
    "tags": []
   },
   "outputs": [
    {
     "name": "stderr",
     "output_type": "stream",
     "text": [
      "/opt/conda/lib/python3.7/site-packages/seaborn/_decorators.py:43: FutureWarning: Pass the following variable as a keyword arg: x. From version 0.12, the only valid positional argument will be `data`, and passing other arguments without an explicit keyword will result in an error or misinterpretation.\n",
      "  FutureWarning\n"
     ]
    },
    {
     "data": {
      "image/png": "[encoded data removed]",
      "text/plain": [
       "<Figure size 432x288 with 1 Axes>"
      ]
     },
     "metadata": {
      "needs_background": "light"
     },
     "output_type": "display_data"
    }
   ],
   "source": [
    "# Which is most Car Body repeats in the Dataset \n",
    "\n",
    "\n",
    "sns.countplot(df[\"carbody\"]);"
   ]
  },
  {
   "cell_type": "code",
   "execution_count": 21,
   "id": "25ebe5b0",
   "metadata": {
    "execution": {
     "iopub.execute_input": "2022-11-27T19:02:53.996932Z",
     "iopub.status.busy": "2022-11-27T19:02:53.996499Z",
     "iopub.status.idle": "2022-11-27T19:02:54.007676Z",
     "shell.execute_reply": "2022-11-27T19:02:54.006257Z"
    },
    "papermill": {
     "duration": 0.041757,
     "end_time": "2022-11-27T19:02:54.010441",
     "exception": false,
     "start_time": "2022-11-27T19:02:53.968684",
     "status": "completed"
    },
    "tags": []
   },
   "outputs": [
    {
     "data": {
      "text/plain": [
       "carbody\n",
       "convertible    21890.500000\n",
       "hardtop        22208.500000\n",
       "hatchback      10376.652386\n",
       "sedan          14344.270833\n",
       "wagon          12371.960000\n",
       "Name: price, dtype: float64"
      ]
     },
     "execution_count": 21,
     "metadata": {},
     "output_type": "execute_result"
    }
   ],
   "source": [
    "# the average price depends on the car body\n",
    "\n",
    "DP = df.groupby(\"carbody\")[\"price\"].mean()\n",
    "DP"
   ]
  },
  {
   "cell_type": "code",
   "execution_count": 22,
   "id": "335cfa3c",
   "metadata": {
    "execution": {
     "iopub.execute_input": "2022-11-27T19:02:54.062622Z",
     "iopub.status.busy": "2022-11-27T19:02:54.062131Z",
     "iopub.status.idle": "2022-11-27T19:02:54.288201Z",
     "shell.execute_reply": "2022-11-27T19:02:54.287178Z"
    },
    "papermill": {
     "duration": 0.255093,
     "end_time": "2022-11-27T19:02:54.290711",
     "exception": false,
     "start_time": "2022-11-27T19:02:54.035618",
     "status": "completed"
    },
    "tags": []
   },
   "outputs": [
    {
     "data": {
      "text/plain": [
       "<AxesSubplot:xlabel='carbody'>"
      ]
     },
     "execution_count": 22,
     "metadata": {},
     "output_type": "execute_result"
    },
    {
     "data": {
      "image/png": "[encoded data removed]",
      "text/plain": [
       "<Figure size 432x288 with 1 Axes>"
      ]
     },
     "metadata": {
      "needs_background": "light"
     },
     "output_type": "display_data"
    }
   ],
   "source": [
    "# create graph \n",
    "\n",
    "DP.plot(kind=\"bar\")"
   ]
  },
  {
   "cell_type": "markdown",
   "id": "3473bd5f",
   "metadata": {
    "papermill": {
     "duration": 0.026314,
     "end_time": "2022-11-27T19:02:54.343383",
     "exception": false,
     "start_time": "2022-11-27T19:02:54.317069",
     "status": "completed"
    },
    "tags": []
   },
   "source": [
    "- Most people using the cars type Sedan, also the high price types Convertible and Hardtop"
   ]
  },
  {
   "cell_type": "code",
   "execution_count": 23,
   "id": "d106cb3e",
   "metadata": {
    "execution": {
     "iopub.execute_input": "2022-11-27T19:02:54.398178Z",
     "iopub.status.busy": "2022-11-27T19:02:54.397011Z",
     "iopub.status.idle": "2022-11-27T19:02:54.563810Z",
     "shell.execute_reply": "2022-11-27T19:02:54.562155Z"
    },
    "papermill": {
     "duration": 0.198717,
     "end_time": "2022-11-27T19:02:54.568459",
     "exception": false,
     "start_time": "2022-11-27T19:02:54.369742",
     "status": "completed"
    },
    "tags": []
   },
   "outputs": [
    {
     "data": {
      "image/png": "[encoded data removed]",
      "text/plain": [
       "<Figure size 504x504 with 1 Axes>"
      ]
     },
     "metadata": {},
     "output_type": "display_data"
    }
   ],
   "source": [
    "# Which is most Car Drive Wheel repeats in the Dataset \n",
    "\n",
    "plt.figure(figsize = [7, 7], clear = True, facecolor = \"#ffffff\")\n",
    "df[\"drivewheel\"].value_counts().plot.pie( autopct='%1.3f%%', shadow = True);"
   ]
  },
  {
   "cell_type": "code",
   "execution_count": 24,
   "id": "50a22568",
   "metadata": {
    "execution": {
     "iopub.execute_input": "2022-11-27T19:02:54.655470Z",
     "iopub.status.busy": "2022-11-27T19:02:54.654098Z",
     "iopub.status.idle": "2022-11-27T19:02:54.664580Z",
     "shell.execute_reply": "2022-11-27T19:02:54.663429Z"
    },
    "papermill": {
     "duration": 0.041043,
     "end_time": "2022-11-27T19:02:54.667181",
     "exception": false,
     "start_time": "2022-11-27T19:02:54.626138",
     "status": "completed"
    },
    "tags": []
   },
   "outputs": [
    {
     "data": {
      "text/plain": [
       "drivewheel\n",
       "4wd    11087.463000\n",
       "fwd     9239.308333\n",
       "rwd    19910.809211\n",
       "Name: price, dtype: float64"
      ]
     },
     "execution_count": 24,
     "metadata": {},
     "output_type": "execute_result"
    }
   ],
   "source": [
    "# the average price depend on the Drive Wheel\n",
    "\n",
    "DwP = df.groupby(\"drivewheel\")[\"price\"].mean()\n",
    "DwP"
   ]
  },
  {
   "cell_type": "code",
   "execution_count": 25,
   "id": "f077b91d",
   "metadata": {
    "execution": {
     "iopub.execute_input": "2022-11-27T19:02:54.722335Z",
     "iopub.status.busy": "2022-11-27T19:02:54.721853Z",
     "iopub.status.idle": "2022-11-27T19:02:54.943809Z",
     "shell.execute_reply": "2022-11-27T19:02:54.942607Z"
    },
    "papermill": {
     "duration": 0.252443,
     "end_time": "2022-11-27T19:02:54.946355",
     "exception": false,
     "start_time": "2022-11-27T19:02:54.693912",
     "status": "completed"
    },
    "tags": []
   },
   "outputs": [
    {
     "data": {
      "text/plain": [
       "<AxesSubplot:xlabel='drivewheel'>"
      ]
     },
     "execution_count": 25,
     "metadata": {},
     "output_type": "execute_result"
    },
    {
     "data": {
      "image/png": "[encoded data removed]",
      "text/plain": [
       "<Figure size 432x288 with 1 Axes>"
      ]
     },
     "metadata": {
      "needs_background": "light"
     },
     "output_type": "display_data"
    }
   ],
   "source": [
    "# create graph\n",
    "\n",
    "DwP.plot(kind=\"bar\")"
   ]
  },
  {
   "cell_type": "markdown",
   "id": "989fad3e",
   "metadata": {
    "papermill": {
     "duration": 0.026851,
     "end_time": "2022-11-27T19:02:55.000030",
     "exception": false,
     "start_time": "2022-11-27T19:02:54.973179",
     "status": "completed"
    },
    "tags": []
   },
   "source": [
    "- Most people using type [Drive Wheel ]> fwd , I thing because less price "
   ]
  },
  {
   "cell_type": "code",
   "execution_count": 26,
   "id": "87c36e0b",
   "metadata": {
    "execution": {
     "iopub.execute_input": "2022-11-27T19:02:55.057156Z",
     "iopub.status.busy": "2022-11-27T19:02:55.056471Z",
     "iopub.status.idle": "2022-11-27T19:02:55.491795Z",
     "shell.execute_reply": "2022-11-27T19:02:55.490463Z"
    },
    "papermill": {
     "duration": 0.466687,
     "end_time": "2022-11-27T19:02:55.494441",
     "exception": false,
     "start_time": "2022-11-27T19:02:55.027754",
     "status": "completed"
    },
    "tags": []
   },
   "outputs": [
    {
     "name": "stderr",
     "output_type": "stream",
     "text": [
      "/opt/conda/lib/python3.7/site-packages/seaborn/_decorators.py:43: FutureWarning: Pass the following variable as a keyword arg: x. From version 0.12, the only valid positional argument will be `data`, and passing other arguments without an explicit keyword will result in an error or misinterpretation.\n",
      "  FutureWarning\n"
     ]
    },
    {
     "data": {
      "text/plain": [
       "<AxesSubplot:xlabel='enginetype', ylabel='count'>"
      ]
     },
     "execution_count": 26,
     "metadata": {},
     "output_type": "execute_result"
    },
    {
     "data": {
      "image/png": "[encoded data removed]",
      "text/plain": [
       "<Figure size 432x288 with 1 Axes>"
      ]
     },
     "metadata": {
      "needs_background": "light"
     },
     "output_type": "display_data"
    }
   ],
   "source": [
    "# Which is most Engine Type repeats in the Dataset \n",
    "\n",
    "sns.countplot(df[\"enginetype\"])\n"
   ]
  },
  {
   "cell_type": "code",
   "execution_count": 27,
   "id": "99b23d17",
   "metadata": {
    "execution": {
     "iopub.execute_input": "2022-11-27T19:02:55.550976Z",
     "iopub.status.busy": "2022-11-27T19:02:55.550538Z",
     "iopub.status.idle": "2022-11-27T19:02:55.561927Z",
     "shell.execute_reply": "2022-11-27T19:02:55.560804Z"
    },
    "papermill": {
     "duration": 0.043311,
     "end_time": "2022-11-27T19:02:55.564875",
     "exception": false,
     "start_time": "2022-11-27T19:02:55.521564",
     "status": "completed"
    },
    "tags": []
   },
   "outputs": [
    {
     "data": {
      "text/plain": [
       "enginetype\n",
       "ohc      11574.048426\n",
       "rotor    13020.000000\n",
       "ohcf     13738.600000\n",
       "l        14627.583333\n",
       "dohc     18116.416667\n",
       "ohcv     25098.384615\n",
       "dohcv    31400.500000\n",
       "Name: price, dtype: float64"
      ]
     },
     "execution_count": 27,
     "metadata": {},
     "output_type": "execute_result"
    }
   ],
   "source": [
    "# the average price [ engine type]\n",
    "\n",
    "ETP = df.groupby(\"enginetype\")[\"price\"].mean()\n",
    "ETP=ETP.sort_values()\n",
    "ETP"
   ]
  },
  {
   "cell_type": "code",
   "execution_count": 28,
   "id": "2215805f",
   "metadata": {
    "execution": {
     "iopub.execute_input": "2022-11-27T19:02:55.622980Z",
     "iopub.status.busy": "2022-11-27T19:02:55.622514Z",
     "iopub.status.idle": "2022-11-27T19:02:55.861316Z",
     "shell.execute_reply": "2022-11-27T19:02:55.859842Z"
    },
    "papermill": {
     "duration": 0.27033,
     "end_time": "2022-11-27T19:02:55.863846",
     "exception": false,
     "start_time": "2022-11-27T19:02:55.593516",
     "status": "completed"
    },
    "tags": []
   },
   "outputs": [
    {
     "data": {
      "text/plain": [
       "<AxesSubplot:xlabel='enginetype'>"
      ]
     },
     "execution_count": 28,
     "metadata": {},
     "output_type": "execute_result"
    },
    {
     "data": {
      "image/png": "[encoded data removed]",
      "text/plain": [
       "<Figure size 432x288 with 1 Axes>"
      ]
     },
     "metadata": {
      "needs_background": "light"
     },
     "output_type": "display_data"
    }
   ],
   "source": [
    "#create graph\n",
    "\n",
    "ETP.plot(kind=\"bar\")"
   ]
  },
  {
   "cell_type": "markdown",
   "id": "b650f00f",
   "metadata": {
    "papermill": {
     "duration": 0.027287,
     "end_time": "2022-11-27T19:02:55.919425",
     "exception": false,
     "start_time": "2022-11-27T19:02:55.892138",
     "status": "completed"
    },
    "tags": []
   },
   "source": [
    "- The most using engine type \"ohc\" and fewer prices "
   ]
  },
  {
   "cell_type": "code",
   "execution_count": 29,
   "id": "8b08c153",
   "metadata": {
    "execution": {
     "iopub.execute_input": "2022-11-27T19:02:55.978222Z",
     "iopub.status.busy": "2022-11-27T19:02:55.977007Z",
     "iopub.status.idle": "2022-11-27T19:02:56.219249Z",
     "shell.execute_reply": "2022-11-27T19:02:56.218037Z"
    },
    "papermill": {
     "duration": 0.274012,
     "end_time": "2022-11-27T19:02:56.221671",
     "exception": false,
     "start_time": "2022-11-27T19:02:55.947659",
     "status": "completed"
    },
    "tags": []
   },
   "outputs": [
    {
     "name": "stderr",
     "output_type": "stream",
     "text": [
      "/opt/conda/lib/python3.7/site-packages/seaborn/_decorators.py:43: FutureWarning: Pass the following variable as a keyword arg: x. From version 0.12, the only valid positional argument will be `data`, and passing other arguments without an explicit keyword will result in an error or misinterpretation.\n",
      "  FutureWarning\n"
     ]
    },
    {
     "data": {
      "text/plain": [
       "<AxesSubplot:xlabel='cylindernumber', ylabel='count'>"
      ]
     },
     "execution_count": 29,
     "metadata": {},
     "output_type": "execute_result"
    },
    {
     "data": {
      "image/png": "[encoded data removed]",
      "text/plain": [
       "<Figure size 432x288 with 1 Axes>"
      ]
     },
     "metadata": {
      "needs_background": "light"
     },
     "output_type": "display_data"
    }
   ],
   "source": [
    "# Which is most Cylinder Number repeats in the Dataset \n",
    "\n",
    "\n",
    "sns.countplot(df[\"cylindernumber\"])\n"
   ]
  },
  {
   "cell_type": "code",
   "execution_count": 30,
   "id": "b3655b48",
   "metadata": {
    "execution": {
     "iopub.execute_input": "2022-11-27T19:02:56.282126Z",
     "iopub.status.busy": "2022-11-27T19:02:56.281621Z",
     "iopub.status.idle": "2022-11-27T19:02:56.293067Z",
     "shell.execute_reply": "2022-11-27T19:02:56.291616Z"
    },
    "papermill": {
     "duration": 0.044518,
     "end_time": "2022-11-27T19:02:56.295480",
     "exception": false,
     "start_time": "2022-11-27T19:02:56.250962",
     "status": "completed"
    },
    "tags": []
   },
   "outputs": [
    {
     "data": {
      "text/plain": [
       "cylindernumber\n",
       "three      5151.000000\n",
       "four      10285.754717\n",
       "two       13020.000000\n",
       "five      21630.469727\n",
       "six       23671.833333\n",
       "twelve    36000.000000\n",
       "eight     37400.100000\n",
       "Name: price, dtype: float64"
      ]
     },
     "execution_count": 30,
     "metadata": {},
     "output_type": "execute_result"
    }
   ],
   "source": [
    "# the average price depends on the cylinder number\n",
    "\n",
    "CP = df.groupby(\"cylindernumber\")[\"price\"].mean()\n",
    "CP=CP.sort_values()\n",
    "CP"
   ]
  },
  {
   "cell_type": "code",
   "execution_count": 31,
   "id": "4e001692",
   "metadata": {
    "execution": {
     "iopub.execute_input": "2022-11-27T19:02:56.356212Z",
     "iopub.status.busy": "2022-11-27T19:02:56.355745Z",
     "iopub.status.idle": "2022-11-27T19:02:56.597898Z",
     "shell.execute_reply": "2022-11-27T19:02:56.596569Z"
    },
    "papermill": {
     "duration": 0.276013,
     "end_time": "2022-11-27T19:02:56.600546",
     "exception": false,
     "start_time": "2022-11-27T19:02:56.324533",
     "status": "completed"
    },
    "tags": []
   },
   "outputs": [
    {
     "data": {
      "text/plain": [
       "<AxesSubplot:xlabel='cylindernumber'>"
      ]
     },
     "execution_count": 31,
     "metadata": {},
     "output_type": "execute_result"
    },
    {
     "data": {
      "image/png": "[encoded data removed]",
      "text/plain": [
       "<Figure size 432x288 with 1 Axes>"
      ]
     },
     "metadata": {
      "needs_background": "light"
     },
     "output_type": "display_data"
    }
   ],
   "source": [
    "# create graph \n",
    "\n",
    "CP.plot(kind=\"bar\")"
   ]
  },
  {
   "cell_type": "markdown",
   "id": "c0b73da0",
   "metadata": {
    "papermill": {
     "duration": 0.028515,
     "end_time": "2022-11-27T19:02:56.658934",
     "exception": false,
     "start_time": "2022-11-27T19:02:56.630419",
     "status": "completed"
    },
    "tags": []
   },
   "source": [
    "- When increasing cylinder number the price increasing, but most people using the car has 4 cylinders."
   ]
  },
  {
   "cell_type": "code",
   "execution_count": 32,
   "id": "c6a421b6",
   "metadata": {
    "execution": {
     "iopub.execute_input": "2022-11-27T19:02:56.719041Z",
     "iopub.status.busy": "2022-11-27T19:02:56.718560Z",
     "iopub.status.idle": "2022-11-27T19:02:57.153374Z",
     "shell.execute_reply": "2022-11-27T19:02:57.151930Z"
    },
    "papermill": {
     "duration": 0.468118,
     "end_time": "2022-11-27T19:02:57.155987",
     "exception": false,
     "start_time": "2022-11-27T19:02:56.687869",
     "status": "completed"
    },
    "tags": []
   },
   "outputs": [
    {
     "data": {
      "text/plain": [
       "Text(0, 0.5, 'The Price')"
      ]
     },
     "execution_count": 32,
     "metadata": {},
     "output_type": "execute_result"
    },
    {
     "data": {
      "image/png": "[encoded data removed]",
      "text/plain": [
       "<Figure size 1800x720 with 1 Axes>"
      ]
     },
     "metadata": {
      "needs_background": "light"
     },
     "output_type": "display_data"
    }
   ],
   "source": [
    "# to show the relation between engine size and price \n",
    "\n",
    "plt.figure(figsize=(25,10))\n",
    "sns.scatterplot(data=df,x=\"enginesize\",y=\"price\",hue=\"fueltype\",markers=True)\n",
    "plt.title(\"The relation between engine size and price\")\n",
    "plt.xlabel(\"Engine Size\")\n",
    "plt.ylabel(\"The Price\")"
   ]
  },
  {
   "cell_type": "markdown",
   "id": "c5e71e6f",
   "metadata": {
    "papermill": {
     "duration": 0.029682,
     "end_time": "2022-11-27T19:02:57.215599",
     "exception": false,
     "start_time": "2022-11-27T19:02:57.185917",
     "status": "completed"
    },
    "tags": []
   },
   "source": [
    "- When incresing engine size the price will incresing."
   ]
  },
  {
   "cell_type": "code",
   "execution_count": 33,
   "id": "dd371428",
   "metadata": {
    "execution": {
     "iopub.execute_input": "2022-11-27T19:02:57.278253Z",
     "iopub.status.busy": "2022-11-27T19:02:57.277751Z",
     "iopub.status.idle": "2022-11-27T19:02:58.315797Z",
     "shell.execute_reply": "2022-11-27T19:02:58.314642Z"
    },
    "papermill": {
     "duration": 1.073133,
     "end_time": "2022-11-27T19:02:58.318817",
     "exception": false,
     "start_time": "2022-11-27T19:02:57.245684",
     "status": "completed"
    },
    "tags": []
   },
   "outputs": [
    {
     "data": {
      "image/png": "[encoded data removed]",
      "text/plain": [
       "<Figure size 1872x864 with 4 Axes>"
      ]
     },
     "metadata": {
      "needs_background": "light"
     },
     "output_type": "display_data"
    }
   ],
   "source": [
    "# this some graphs to showing the wheelbase , car length, car width, car height if have any affect in price\n",
    "\n",
    "\n",
    "fig = plt.figure(figsize=(26, 12))\n",
    "\n",
    "ax1 = fig.add_subplot(221)\n",
    "sns.scatterplot(data=df,x=\"wheelbase\",y=\"price\",hue=\"fueltype\",markers=True)\n",
    "\n",
    "ax2 = fig.add_subplot(222)\n",
    "sns.scatterplot(data=df,x=\"carlength\",y=\"price\",hue=\"fueltype\",markers=True)\n",
    "\n",
    "ax3 = fig.add_subplot(223)\n",
    "sns.scatterplot(data=df,x=\"carwidth\",y=\"price\",hue=\"fueltype\",markers=True)\n",
    "\n",
    "\n",
    "ax4 = fig.add_subplot(224)\n",
    "sns.scatterplot(data=df,x=\"carheight\",y=\"price\",hue=\"fueltype\",markers=True)\n",
    "\n",
    "\n",
    "\n",
    "ax1.title.set_text('Wheelbase with Price')\n",
    "ax2.title.set_text('car length  with Price')\n",
    "ax3.title.set_text('car width with Price')\n",
    "ax4.title.set_text('car height with Price')\n",
    "plt.show()"
   ]
  },
  {
   "cell_type": "markdown",
   "id": "bbaa7426",
   "metadata": {
    "papermill": {
     "duration": 0.038846,
     "end_time": "2022-11-27T19:02:58.393010",
     "exception": false,
     "start_time": "2022-11-27T19:02:58.354164",
     "status": "completed"
    },
    "tags": []
   },
   "source": [
    "- The wheelbase, car length and car width have effect in price, but the Car height don't have any effect. "
   ]
  },
  {
   "cell_type": "markdown",
   "id": "cc9acb76",
   "metadata": {
    "papermill": {
     "duration": 0.033215,
     "end_time": "2022-11-27T19:02:58.460525",
     "exception": false,
     "start_time": "2022-11-27T19:02:58.427310",
     "status": "completed"
    },
    "tags": []
   },
   "source": [
    "<a id='top'></a>\n",
    "<div class=\"list-group\" id=\"list-tab\" role=\"tablist\">\n",
    "<p style=\"background-color:#FFEEff;font-family:sans-serif;color:#FFffxx;font-size:250%;text-align:center;border-radius:15px 15px;\"> Analysis Results </p>"
   ]
  },
  {
   "cell_type": "markdown",
   "id": "2c7e38fd",
   "metadata": {
    "papermill": {
     "duration": 0.03293,
     "end_time": "2022-11-27T19:02:58.526840",
     "exception": false,
     "start_time": "2022-11-27T19:02:58.493910",
     "status": "completed"
    },
    "tags": []
   },
   "source": [
    "# Analysis Results 👍\n",
    "- We have DataSet > Car Price  👍\n",
    "- The Shape DataSet = (Rows = 205, columns= 26) 👊\n",
    "\n",
    "- No null value🤘\n",
    "- No Duplicated value 🤘\n",
    "\n",
    "\n",
    "### Some Analyst 👀👀\n",
    "\n",
    "#### Price cars 💥💥\n",
    "- Avg price = 13276\n",
    "- Min price = 5118 \n",
    "- Max price = 45400\n",
    "\n",
    "\n",
    "#### The famous or repeats car > Toyota 😊😊\n",
    "\n",
    "- Most using car working in Gas around 90 % and the average price less than the car working in Diesel.😨😨\n",
    "- some category using the car working in Diesel around 10 % but the average price more than the car working in Gas. 💥💥\n",
    "\n",
    "\n",
    "\n",
    "- Most cars Stander around 82% also the average price less Turbo, the percentage turbo car around 18 %. 😪😪\n",
    "\n",
    "- Around 56 % using car has 4 doors and 46% using car has 2 doors, sports car also the same average price. 👍👍\n",
    "\n",
    "\n",
    "- Most people using the cars type Sedan, also the high price types Convertible and Hardtop👍👍\n",
    "\n",
    "- Most people using type [Drive Wheel ]> fwd , I thing because less price\n",
    "\n",
    "\n",
    "- The most using engine type \"ohc\" and fewer prices\n",
    "\n",
    "\n",
    "\n",
    "### When increasing cylinder number the price increasing, but most people using the car has 4 cylinders.\n",
    "\n",
    "### When incresing engine size the price will incresing.\n",
    "\n",
    "### The wheelbase, car length and car width have effect in price, but the Car height don't have any effect. 😨😨"
   ]
  },
  {
   "cell_type": "code",
   "execution_count": null,
   "id": "e4187b5a",
   "metadata": {
    "papermill": {
     "duration": 0.033046,
     "end_time": "2022-11-27T19:02:58.593733",
     "exception": false,
     "start_time": "2022-11-27T19:02:58.560687",
     "status": "completed"
    },
    "tags": []
   },
   "outputs": [],
   "source": []
  },
  {
   "cell_type": "markdown",
   "id": "b410c802",
   "metadata": {
    "papermill": {
     "duration": 0.033144,
     "end_time": "2022-11-27T19:02:58.660065",
     "exception": false,
     "start_time": "2022-11-27T19:02:58.626921",
     "status": "completed"
    },
    "tags": []
   },
   "source": [
    "<font size=\"+3\" color='#059cff'><b> Building a Machine Learning Model </b></font>"
   ]
  },
  {
   "cell_type": "code",
   "execution_count": 34,
   "id": "c9c84f49",
   "metadata": {
    "execution": {
     "iopub.execute_input": "2022-11-27T19:02:58.730302Z",
     "iopub.status.busy": "2022-11-27T19:02:58.729258Z",
     "iopub.status.idle": "2022-11-27T19:02:59.265258Z",
     "shell.execute_reply": "2022-11-27T19:02:59.263904Z"
    },
    "papermill": {
     "duration": 0.574331,
     "end_time": "2022-11-27T19:02:59.268031",
     "exception": false,
     "start_time": "2022-11-27T19:02:58.693700",
     "status": "completed"
    },
    "tags": []
   },
   "outputs": [],
   "source": [
    "#Importing the basic librarires for building model\n",
    "\n",
    "from sklearn.model_selection import train_test_split\n",
    "\n",
    "from sklearn.metrics import mean_absolute_error ,mean_squared_error, median_absolute_error,confusion_matrix,accuracy_score,r2_score\n",
    "\n",
    "\n",
    "\n",
    "from sklearn.linear_model import LinearRegression ,ARDRegression\n",
    "from sklearn.tree import DecisionTreeRegressor\n",
    "from sklearn.neighbors import KNeighborsRegressor\n",
    "from sklearn.ensemble import RandomForestRegressor\n",
    "from sklearn.neural_network import MLPRegressor\n",
    "from sklearn.svm import SVR\n",
    "from xgboost import XGBRegressor\n",
    "from sklearn.preprocessing import LabelEncoder,StandardScaler"
   ]
  },
  {
   "cell_type": "code",
   "execution_count": 35,
   "id": "9a93c965",
   "metadata": {
    "execution": {
     "iopub.execute_input": "2022-11-27T19:02:59.336925Z",
     "iopub.status.busy": "2022-11-27T19:02:59.336481Z",
     "iopub.status.idle": "2022-11-27T19:02:59.366391Z",
     "shell.execute_reply": "2022-11-27T19:02:59.365292Z"
    },
    "papermill": {
     "duration": 0.066867,
     "end_time": "2022-11-27T19:02:59.368606",
     "exception": false,
     "start_time": "2022-11-27T19:02:59.301739",
     "status": "completed"
    },
    "tags": []
   },
   "outputs": [
    {
     "data": {
      "text/html": [
       "<div>\n",
       "<style scoped>\n",
       "    .dataframe tbody tr th:only-of-type {\n",
       "        vertical-align: middle;\n",
       "    }\n",
       "\n",
       "    .dataframe tbody tr th {\n",
       "        vertical-align: top;\n",
       "    }\n",
       "\n",
       "    .dataframe thead th {\n",
       "        text-align: right;\n",
       "    }\n",
       "</style>\n",
       "<table border=\"1\" class=\"dataframe\">\n",
       "  <thead>\n",
       "    <tr style=\"text-align: right;\">\n",
       "      <th></th>\n",
       "      <th>symboling</th>\n",
       "      <th>CarName</th>\n",
       "      <th>fueltype</th>\n",
       "      <th>aspiration</th>\n",
       "      <th>doornumber</th>\n",
       "      <th>carbody</th>\n",
       "      <th>drivewheel</th>\n",
       "      <th>enginelocation</th>\n",
       "      <th>wheelbase</th>\n",
       "      <th>carlength</th>\n",
       "      <th>...</th>\n",
       "      <th>enginesize</th>\n",
       "      <th>fuelsystem</th>\n",
       "      <th>boreratio</th>\n",
       "      <th>stroke</th>\n",
       "      <th>compressionratio</th>\n",
       "      <th>horsepower</th>\n",
       "      <th>peakrpm</th>\n",
       "      <th>citympg</th>\n",
       "      <th>highwaympg</th>\n",
       "      <th>price</th>\n",
       "    </tr>\n",
       "  </thead>\n",
       "  <tbody>\n",
       "    <tr>\n",
       "      <th>0</th>\n",
       "      <td>3</td>\n",
       "      <td>alfa-romero giulia</td>\n",
       "      <td>gas</td>\n",
       "      <td>std</td>\n",
       "      <td>two</td>\n",
       "      <td>convertible</td>\n",
       "      <td>rwd</td>\n",
       "      <td>front</td>\n",
       "      <td>88.6</td>\n",
       "      <td>168.8</td>\n",
       "      <td>...</td>\n",
       "      <td>130</td>\n",
       "      <td>mpfi</td>\n",
       "      <td>3.47</td>\n",
       "      <td>2.68</td>\n",
       "      <td>9.0</td>\n",
       "      <td>111</td>\n",
       "      <td>5000</td>\n",
       "      <td>21</td>\n",
       "      <td>27</td>\n",
       "      <td>13495.0</td>\n",
       "    </tr>\n",
       "    <tr>\n",
       "      <th>1</th>\n",
       "      <td>3</td>\n",
       "      <td>alfa-romero stelvio</td>\n",
       "      <td>gas</td>\n",
       "      <td>std</td>\n",
       "      <td>two</td>\n",
       "      <td>convertible</td>\n",
       "      <td>rwd</td>\n",
       "      <td>front</td>\n",
       "      <td>88.6</td>\n",
       "      <td>168.8</td>\n",
       "      <td>...</td>\n",
       "      <td>130</td>\n",
       "      <td>mpfi</td>\n",
       "      <td>3.47</td>\n",
       "      <td>2.68</td>\n",
       "      <td>9.0</td>\n",
       "      <td>111</td>\n",
       "      <td>5000</td>\n",
       "      <td>21</td>\n",
       "      <td>27</td>\n",
       "      <td>16500.0</td>\n",
       "    </tr>\n",
       "    <tr>\n",
       "      <th>2</th>\n",
       "      <td>1</td>\n",
       "      <td>alfa-romero Quadrifoglio</td>\n",
       "      <td>gas</td>\n",
       "      <td>std</td>\n",
       "      <td>two</td>\n",
       "      <td>hatchback</td>\n",
       "      <td>rwd</td>\n",
       "      <td>front</td>\n",
       "      <td>94.5</td>\n",
       "      <td>171.2</td>\n",
       "      <td>...</td>\n",
       "      <td>152</td>\n",
       "      <td>mpfi</td>\n",
       "      <td>2.68</td>\n",
       "      <td>3.47</td>\n",
       "      <td>9.0</td>\n",
       "      <td>154</td>\n",
       "      <td>5000</td>\n",
       "      <td>19</td>\n",
       "      <td>26</td>\n",
       "      <td>16500.0</td>\n",
       "    </tr>\n",
       "    <tr>\n",
       "      <th>3</th>\n",
       "      <td>2</td>\n",
       "      <td>audi 100 ls</td>\n",
       "      <td>gas</td>\n",
       "      <td>std</td>\n",
       "      <td>four</td>\n",
       "      <td>sedan</td>\n",
       "      <td>fwd</td>\n",
       "      <td>front</td>\n",
       "      <td>99.8</td>\n",
       "      <td>176.6</td>\n",
       "      <td>...</td>\n",
       "      <td>109</td>\n",
       "      <td>mpfi</td>\n",
       "      <td>3.19</td>\n",
       "      <td>3.40</td>\n",
       "      <td>10.0</td>\n",
       "      <td>102</td>\n",
       "      <td>5500</td>\n",
       "      <td>24</td>\n",
       "      <td>30</td>\n",
       "      <td>13950.0</td>\n",
       "    </tr>\n",
       "    <tr>\n",
       "      <th>4</th>\n",
       "      <td>2</td>\n",
       "      <td>audi 100ls</td>\n",
       "      <td>gas</td>\n",
       "      <td>std</td>\n",
       "      <td>four</td>\n",
       "      <td>sedan</td>\n",
       "      <td>4wd</td>\n",
       "      <td>front</td>\n",
       "      <td>99.4</td>\n",
       "      <td>176.6</td>\n",
       "      <td>...</td>\n",
       "      <td>136</td>\n",
       "      <td>mpfi</td>\n",
       "      <td>3.19</td>\n",
       "      <td>3.40</td>\n",
       "      <td>8.0</td>\n",
       "      <td>115</td>\n",
       "      <td>5500</td>\n",
       "      <td>18</td>\n",
       "      <td>22</td>\n",
       "      <td>17450.0</td>\n",
       "    </tr>\n",
       "  </tbody>\n",
       "</table>\n",
       "<p>5 rows × 25 columns</p>\n",
       "</div>"
      ],
      "text/plain": [
       "   symboling                   CarName fueltype aspiration doornumber  \\\n",
       "0          3        alfa-romero giulia      gas        std        two   \n",
       "1          3       alfa-romero stelvio      gas        std        two   \n",
       "2          1  alfa-romero Quadrifoglio      gas        std        two   \n",
       "3          2               audi 100 ls      gas        std       four   \n",
       "4          2                audi 100ls      gas        std       four   \n",
       "\n",
       "       carbody drivewheel enginelocation  wheelbase  carlength  ...  \\\n",
       "0  convertible        rwd          front       88.6      168.8  ...   \n",
       "1  convertible        rwd          front       88.6      168.8  ...   \n",
       "2    hatchback        rwd          front       94.5      171.2  ...   \n",
       "3        sedan        fwd          front       99.8      176.6  ...   \n",
       "4        sedan        4wd          front       99.4      176.6  ...   \n",
       "\n",
       "   enginesize  fuelsystem  boreratio stroke compressionratio  horsepower  \\\n",
       "0         130        mpfi       3.47   2.68              9.0         111   \n",
       "1         130        mpfi       3.47   2.68              9.0         111   \n",
       "2         152        mpfi       2.68   3.47              9.0         154   \n",
       "3         109        mpfi       3.19   3.40             10.0         102   \n",
       "4         136        mpfi       3.19   3.40              8.0         115   \n",
       "\n",
       "  peakrpm  citympg  highwaympg    price  \n",
       "0    5000       21          27  13495.0  \n",
       "1    5000       21          27  16500.0  \n",
       "2    5000       19          26  16500.0  \n",
       "3    5500       24          30  13950.0  \n",
       "4    5500       18          22  17450.0  \n",
       "\n",
       "[5 rows x 25 columns]"
      ]
     },
     "execution_count": 35,
     "metadata": {},
     "output_type": "execute_result"
    }
   ],
   "source": [
    "# show the data set\n",
    "df.head()"
   ]
  },
  {
   "cell_type": "code",
   "execution_count": 36,
   "id": "6dcf3bc8",
   "metadata": {
    "execution": {
     "iopub.execute_input": "2022-11-27T19:02:59.439752Z",
     "iopub.status.busy": "2022-11-27T19:02:59.439035Z",
     "iopub.status.idle": "2022-11-27T19:02:59.452965Z",
     "shell.execute_reply": "2022-11-27T19:02:59.451563Z"
    },
    "papermill": {
     "duration": 0.053571,
     "end_time": "2022-11-27T19:02:59.455608",
     "exception": false,
     "start_time": "2022-11-27T19:02:59.402037",
     "status": "completed"
    },
    "tags": []
   },
   "outputs": [
    {
     "name": "stdout",
     "output_type": "stream",
     "text": [
      "<class 'pandas.core.frame.DataFrame'>\n",
      "RangeIndex: 205 entries, 0 to 204\n",
      "Data columns (total 25 columns):\n",
      " #   Column            Non-Null Count  Dtype  \n",
      "---  ------            --------------  -----  \n",
      " 0   symboling         205 non-null    int64  \n",
      " 1   CarName           205 non-null    object \n",
      " 2   fueltype          205 non-null    object \n",
      " 3   aspiration        205 non-null    object \n",
      " 4   doornumber        205 non-null    object \n",
      " 5   carbody           205 non-null    object \n",
      " 6   drivewheel        205 non-null    object \n",
      " 7   enginelocation    205 non-null    object \n",
      " 8   wheelbase         205 non-null    float64\n",
      " 9   carlength         205 non-null    float64\n",
      " 10  carwidth          205 non-null    float64\n",
      " 11  carheight         205 non-null    float64\n",
      " 12  curbweight        205 non-null    int64  \n",
      " 13  enginetype        205 non-null    object \n",
      " 14  cylindernumber    205 non-null    object \n",
      " 15  enginesize        205 non-null    int64  \n",
      " 16  fuelsystem        205 non-null    object \n",
      " 17  boreratio         205 non-null    float64\n",
      " 18  stroke            205 non-null    float64\n",
      " 19  compressionratio  205 non-null    float64\n",
      " 20  horsepower        205 non-null    int64  \n",
      " 21  peakrpm           205 non-null    int64  \n",
      " 22  citympg           205 non-null    int64  \n",
      " 23  highwaympg        205 non-null    int64  \n",
      " 24  price             205 non-null    float64\n",
      "dtypes: float64(8), int64(7), object(10)\n",
      "memory usage: 40.2+ KB\n"
     ]
    }
   ],
   "source": [
    "#show the data type\n",
    "df.info()"
   ]
  },
  {
   "cell_type": "markdown",
   "id": "d7b516f3",
   "metadata": {
    "papermill": {
     "duration": 0.033779,
     "end_time": "2022-11-27T19:02:59.524208",
     "exception": false,
     "start_time": "2022-11-27T19:02:59.490429",
     "status": "completed"
    },
    "tags": []
   },
   "source": [
    "- we need change the data type from object to number"
   ]
  },
  {
   "cell_type": "code",
   "execution_count": 37,
   "id": "e2adc738",
   "metadata": {
    "execution": {
     "iopub.execute_input": "2022-11-27T19:02:59.595402Z",
     "iopub.status.busy": "2022-11-27T19:02:59.594498Z",
     "iopub.status.idle": "2022-11-27T19:02:59.599931Z",
     "shell.execute_reply": "2022-11-27T19:02:59.598918Z"
    },
    "papermill": {
     "duration": 0.043402,
     "end_time": "2022-11-27T19:02:59.602294",
     "exception": false,
     "start_time": "2022-11-27T19:02:59.558892",
     "status": "completed"
    },
    "tags": []
   },
   "outputs": [],
   "source": [
    "# create copy in the orginal DataSet\n",
    "\n",
    "new_df=df.copy()"
   ]
  },
  {
   "cell_type": "code",
   "execution_count": 38,
   "id": "c40226a1",
   "metadata": {
    "execution": {
     "iopub.execute_input": "2022-11-27T19:02:59.674578Z",
     "iopub.status.busy": "2022-11-27T19:02:59.673719Z",
     "iopub.status.idle": "2022-11-27T19:02:59.682898Z",
     "shell.execute_reply": "2022-11-27T19:02:59.681910Z"
    },
    "papermill": {
     "duration": 0.047886,
     "end_time": "2022-11-27T19:02:59.685476",
     "exception": false,
     "start_time": "2022-11-27T19:02:59.637590",
     "status": "completed"
    },
    "tags": []
   },
   "outputs": [],
   "source": [
    "# separation the data type columns [ object and numeric ]\n",
    "\n",
    "cat = []\n",
    "num = []\n",
    "for i in new_df.columns:\n",
    "    if new_df[i].dtypes == 'O':\n",
    "        cat.append(i)\n",
    "    else:\n",
    "        num.append(i)\n",
    "\n",
    "data_n=new_df[num]   # new dataframe just type numeric\n",
    "data_c=new_df[cat]  # new dataframe just type object"
   ]
  },
  {
   "cell_type": "code",
   "execution_count": 39,
   "id": "dffa2381",
   "metadata": {
    "execution": {
     "iopub.execute_input": "2022-11-27T19:02:59.757567Z",
     "iopub.status.busy": "2022-11-27T19:02:59.757101Z",
     "iopub.status.idle": "2022-11-27T19:02:59.763832Z",
     "shell.execute_reply": "2022-11-27T19:02:59.762895Z"
    },
    "papermill": {
     "duration": 0.04541,
     "end_time": "2022-11-27T19:02:59.765809",
     "exception": false,
     "start_time": "2022-11-27T19:02:59.720399",
     "status": "completed"
    },
    "tags": []
   },
   "outputs": [
    {
     "data": {
      "text/plain": [
       "Index(['CarName', 'fueltype', 'aspiration', 'doornumber', 'carbody',\n",
       "       'drivewheel', 'enginelocation', 'enginetype', 'cylindernumber',\n",
       "       'fuelsystem'],\n",
       "      dtype='object')"
      ]
     },
     "execution_count": 39,
     "metadata": {},
     "output_type": "execute_result"
    }
   ],
   "source": [
    "col=data_c.columns\n",
    "col"
   ]
  },
  {
   "cell_type": "code",
   "execution_count": 40,
   "id": "19795428",
   "metadata": {
    "execution": {
     "iopub.execute_input": "2022-11-27T19:02:59.837865Z",
     "iopub.status.busy": "2022-11-27T19:02:59.837074Z",
     "iopub.status.idle": "2022-11-27T19:02:59.849469Z",
     "shell.execute_reply": "2022-11-27T19:02:59.847688Z"
    },
    "papermill": {
     "duration": 0.052511,
     "end_time": "2022-11-27T19:02:59.852329",
     "exception": false,
     "start_time": "2022-11-27T19:02:59.799818",
     "status": "completed"
    },
    "tags": []
   },
   "outputs": [
    {
     "name": "stderr",
     "output_type": "stream",
     "text": [
      "/opt/conda/lib/python3.7/site-packages/ipykernel_launcher.py:6: SettingWithCopyWarning: \n",
      "A value is trying to be set on a copy of a slice from a DataFrame.\n",
      "Try using .loc[row_indexer,col_indexer] = value instead\n",
      "\n",
      "See the caveats in the documentation: https://pandas.pydata.org/pandas-docs/stable/user_guide/indexing.html#returning-a-view-versus-a-copy\n",
      "  \n"
     ]
    }
   ],
   "source": [
    "label_encoders = {}\n",
    "categorical_columns = data_c.columns  # I would recommend using columns names here if you're using pandas. If you're using numpy then stick with range(n) instead\n",
    "\n",
    "for column in categorical_columns:\n",
    "    label_encoders[column] = LabelEncoder()\n",
    "    data_c[column] = label_encoders[column].fit_transform(data_c[column])"
   ]
  },
  {
   "cell_type": "code",
   "execution_count": 41,
   "id": "1889cec5",
   "metadata": {
    "execution": {
     "iopub.execute_input": "2022-11-27T19:02:59.924012Z",
     "iopub.status.busy": "2022-11-27T19:02:59.923470Z",
     "iopub.status.idle": "2022-11-27T19:02:59.950306Z",
     "shell.execute_reply": "2022-11-27T19:02:59.948969Z"
    },
    "papermill": {
     "duration": 0.065662,
     "end_time": "2022-11-27T19:02:59.953032",
     "exception": false,
     "start_time": "2022-11-27T19:02:59.887370",
     "status": "completed"
    },
    "tags": []
   },
   "outputs": [
    {
     "data": {
      "text/html": [
       "<div>\n",
       "<style scoped>\n",
       "    .dataframe tbody tr th:only-of-type {\n",
       "        vertical-align: middle;\n",
       "    }\n",
       "\n",
       "    .dataframe tbody tr th {\n",
       "        vertical-align: top;\n",
       "    }\n",
       "\n",
       "    .dataframe thead th {\n",
       "        text-align: right;\n",
       "    }\n",
       "</style>\n",
       "<table border=\"1\" class=\"dataframe\">\n",
       "  <thead>\n",
       "    <tr style=\"text-align: right;\">\n",
       "      <th></th>\n",
       "      <th>CarName</th>\n",
       "      <th>fueltype</th>\n",
       "      <th>aspiration</th>\n",
       "      <th>doornumber</th>\n",
       "      <th>carbody</th>\n",
       "      <th>drivewheel</th>\n",
       "      <th>enginelocation</th>\n",
       "      <th>enginetype</th>\n",
       "      <th>cylindernumber</th>\n",
       "      <th>fuelsystem</th>\n",
       "      <th>...</th>\n",
       "      <th>curbweight</th>\n",
       "      <th>enginesize</th>\n",
       "      <th>boreratio</th>\n",
       "      <th>stroke</th>\n",
       "      <th>compressionratio</th>\n",
       "      <th>horsepower</th>\n",
       "      <th>peakrpm</th>\n",
       "      <th>citympg</th>\n",
       "      <th>highwaympg</th>\n",
       "      <th>price</th>\n",
       "    </tr>\n",
       "  </thead>\n",
       "  <tbody>\n",
       "    <tr>\n",
       "      <th>0</th>\n",
       "      <td>2</td>\n",
       "      <td>1</td>\n",
       "      <td>0</td>\n",
       "      <td>1</td>\n",
       "      <td>0</td>\n",
       "      <td>2</td>\n",
       "      <td>0</td>\n",
       "      <td>0</td>\n",
       "      <td>2</td>\n",
       "      <td>5</td>\n",
       "      <td>...</td>\n",
       "      <td>2548</td>\n",
       "      <td>130</td>\n",
       "      <td>3.47</td>\n",
       "      <td>2.68</td>\n",
       "      <td>9.0</td>\n",
       "      <td>111</td>\n",
       "      <td>5000</td>\n",
       "      <td>21</td>\n",
       "      <td>27</td>\n",
       "      <td>13495.0</td>\n",
       "    </tr>\n",
       "    <tr>\n",
       "      <th>1</th>\n",
       "      <td>3</td>\n",
       "      <td>1</td>\n",
       "      <td>0</td>\n",
       "      <td>1</td>\n",
       "      <td>0</td>\n",
       "      <td>2</td>\n",
       "      <td>0</td>\n",
       "      <td>0</td>\n",
       "      <td>2</td>\n",
       "      <td>5</td>\n",
       "      <td>...</td>\n",
       "      <td>2548</td>\n",
       "      <td>130</td>\n",
       "      <td>3.47</td>\n",
       "      <td>2.68</td>\n",
       "      <td>9.0</td>\n",
       "      <td>111</td>\n",
       "      <td>5000</td>\n",
       "      <td>21</td>\n",
       "      <td>27</td>\n",
       "      <td>16500.0</td>\n",
       "    </tr>\n",
       "    <tr>\n",
       "      <th>2</th>\n",
       "      <td>1</td>\n",
       "      <td>1</td>\n",
       "      <td>0</td>\n",
       "      <td>1</td>\n",
       "      <td>2</td>\n",
       "      <td>2</td>\n",
       "      <td>0</td>\n",
       "      <td>5</td>\n",
       "      <td>3</td>\n",
       "      <td>5</td>\n",
       "      <td>...</td>\n",
       "      <td>2823</td>\n",
       "      <td>152</td>\n",
       "      <td>2.68</td>\n",
       "      <td>3.47</td>\n",
       "      <td>9.0</td>\n",
       "      <td>154</td>\n",
       "      <td>5000</td>\n",
       "      <td>19</td>\n",
       "      <td>26</td>\n",
       "      <td>16500.0</td>\n",
       "    </tr>\n",
       "    <tr>\n",
       "      <th>3</th>\n",
       "      <td>4</td>\n",
       "      <td>1</td>\n",
       "      <td>0</td>\n",
       "      <td>0</td>\n",
       "      <td>3</td>\n",
       "      <td>1</td>\n",
       "      <td>0</td>\n",
       "      <td>3</td>\n",
       "      <td>2</td>\n",
       "      <td>5</td>\n",
       "      <td>...</td>\n",
       "      <td>2337</td>\n",
       "      <td>109</td>\n",
       "      <td>3.19</td>\n",
       "      <td>3.40</td>\n",
       "      <td>10.0</td>\n",
       "      <td>102</td>\n",
       "      <td>5500</td>\n",
       "      <td>24</td>\n",
       "      <td>30</td>\n",
       "      <td>13950.0</td>\n",
       "    </tr>\n",
       "    <tr>\n",
       "      <th>4</th>\n",
       "      <td>5</td>\n",
       "      <td>1</td>\n",
       "      <td>0</td>\n",
       "      <td>0</td>\n",
       "      <td>3</td>\n",
       "      <td>0</td>\n",
       "      <td>0</td>\n",
       "      <td>3</td>\n",
       "      <td>1</td>\n",
       "      <td>5</td>\n",
       "      <td>...</td>\n",
       "      <td>2824</td>\n",
       "      <td>136</td>\n",
       "      <td>3.19</td>\n",
       "      <td>3.40</td>\n",
       "      <td>8.0</td>\n",
       "      <td>115</td>\n",
       "      <td>5500</td>\n",
       "      <td>18</td>\n",
       "      <td>22</td>\n",
       "      <td>17450.0</td>\n",
       "    </tr>\n",
       "  </tbody>\n",
       "</table>\n",
       "<p>5 rows × 25 columns</p>\n",
       "</div>"
      ],
      "text/plain": [
       "   CarName  fueltype  aspiration  doornumber  carbody  drivewheel  \\\n",
       "0        2         1           0           1        0           2   \n",
       "1        3         1           0           1        0           2   \n",
       "2        1         1           0           1        2           2   \n",
       "3        4         1           0           0        3           1   \n",
       "4        5         1           0           0        3           0   \n",
       "\n",
       "   enginelocation  enginetype  cylindernumber  fuelsystem  ...  curbweight  \\\n",
       "0               0           0               2           5  ...        2548   \n",
       "1               0           0               2           5  ...        2548   \n",
       "2               0           5               3           5  ...        2823   \n",
       "3               0           3               2           5  ...        2337   \n",
       "4               0           3               1           5  ...        2824   \n",
       "\n",
       "   enginesize  boreratio  stroke  compressionratio  horsepower  peakrpm  \\\n",
       "0         130       3.47    2.68               9.0         111     5000   \n",
       "1         130       3.47    2.68               9.0         111     5000   \n",
       "2         152       2.68    3.47               9.0         154     5000   \n",
       "3         109       3.19    3.40              10.0         102     5500   \n",
       "4         136       3.19    3.40               8.0         115     5500   \n",
       "\n",
       "   citympg  highwaympg    price  \n",
       "0       21          27  13495.0  \n",
       "1       21          27  16500.0  \n",
       "2       19          26  16500.0  \n",
       "3       24          30  13950.0  \n",
       "4       18          22  17450.0  \n",
       "\n",
       "[5 rows x 25 columns]"
      ]
     },
     "execution_count": 41,
     "metadata": {},
     "output_type": "execute_result"
    }
   ],
   "source": [
    " # merge 2 data set \n",
    "frames = [data_c, data_n]\n",
    "  \n",
    "data1 = pd.concat(frames,axis=1)\n",
    "data1.head()"
   ]
  },
  {
   "cell_type": "code",
   "execution_count": 42,
   "id": "c90f1cc5",
   "metadata": {
    "execution": {
     "iopub.execute_input": "2022-11-27T19:03:00.026331Z",
     "iopub.status.busy": "2022-11-27T19:03:00.025857Z",
     "iopub.status.idle": "2022-11-27T19:03:00.044488Z",
     "shell.execute_reply": "2022-11-27T19:03:00.043186Z"
    },
    "papermill": {
     "duration": 0.059721,
     "end_time": "2022-11-27T19:03:00.047967",
     "exception": false,
     "start_time": "2022-11-27T19:02:59.988246",
     "status": "completed"
    },
    "tags": []
   },
   "outputs": [
    {
     "name": "stdout",
     "output_type": "stream",
     "text": [
      "<class 'pandas.core.frame.DataFrame'>\n",
      "RangeIndex: 205 entries, 0 to 204\n",
      "Data columns (total 25 columns):\n",
      " #   Column            Non-Null Count  Dtype  \n",
      "---  ------            --------------  -----  \n",
      " 0   CarName           205 non-null    int64  \n",
      " 1   fueltype          205 non-null    int64  \n",
      " 2   aspiration        205 non-null    int64  \n",
      " 3   doornumber        205 non-null    int64  \n",
      " 4   carbody           205 non-null    int64  \n",
      " 5   drivewheel        205 non-null    int64  \n",
      " 6   enginelocation    205 non-null    int64  \n",
      " 7   enginetype        205 non-null    int64  \n",
      " 8   cylindernumber    205 non-null    int64  \n",
      " 9   fuelsystem        205 non-null    int64  \n",
      " 10  symboling         205 non-null    int64  \n",
      " 11  wheelbase         205 non-null    float64\n",
      " 12  carlength         205 non-null    float64\n",
      " 13  carwidth          205 non-null    float64\n",
      " 14  carheight         205 non-null    float64\n",
      " 15  curbweight        205 non-null    int64  \n",
      " 16  enginesize        205 non-null    int64  \n",
      " 17  boreratio         205 non-null    float64\n",
      " 18  stroke            205 non-null    float64\n",
      " 19  compressionratio  205 non-null    float64\n",
      " 20  horsepower        205 non-null    int64  \n",
      " 21  peakrpm           205 non-null    int64  \n",
      " 22  citympg           205 non-null    int64  \n",
      " 23  highwaympg        205 non-null    int64  \n",
      " 24  price             205 non-null    float64\n",
      "dtypes: float64(8), int64(17)\n",
      "memory usage: 40.2 KB\n"
     ]
    }
   ],
   "source": [
    "data1.info()"
   ]
  },
  {
   "cell_type": "code",
   "execution_count": 43,
   "id": "278ec70d",
   "metadata": {
    "execution": {
     "iopub.execute_input": "2022-11-27T19:03:00.140989Z",
     "iopub.status.busy": "2022-11-27T19:03:00.140288Z",
     "iopub.status.idle": "2022-11-27T19:03:00.150734Z",
     "shell.execute_reply": "2022-11-27T19:03:00.149770Z"
    },
    "papermill": {
     "duration": 0.060758,
     "end_time": "2022-11-27T19:03:00.153145",
     "exception": false,
     "start_time": "2022-11-27T19:03:00.092387",
     "status": "completed"
    },
    "tags": []
   },
   "outputs": [
    {
     "data": {
      "text/plain": [
       "(205, 25)"
      ]
     },
     "execution_count": 43,
     "metadata": {},
     "output_type": "execute_result"
    }
   ],
   "source": [
    "data1.shape"
   ]
  },
  {
   "cell_type": "code",
   "execution_count": 44,
   "id": "86ff61fe",
   "metadata": {
    "execution": {
     "iopub.execute_input": "2022-11-27T19:03:00.225896Z",
     "iopub.status.busy": "2022-11-27T19:03:00.225445Z",
     "iopub.status.idle": "2022-11-27T19:03:00.236807Z",
     "shell.execute_reply": "2022-11-27T19:03:00.235590Z"
    },
    "papermill": {
     "duration": 0.049528,
     "end_time": "2022-11-27T19:03:00.238929",
     "exception": false,
     "start_time": "2022-11-27T19:03:00.189401",
     "status": "completed"
    },
    "tags": []
   },
   "outputs": [
    {
     "data": {
      "text/plain": [
       "highwaympg         -0.697599\n",
       "citympg            -0.685751\n",
       "CarName            -0.231439\n",
       "fueltype           -0.105679\n",
       "peakrpm            -0.085267\n",
       "carbody            -0.083976\n",
       "symboling          -0.079978\n",
       "doornumber         -0.031835\n",
       "cylindernumber     -0.027628\n",
       "enginetype          0.049171\n",
       "compressionratio    0.067984\n",
       "stroke              0.079443\n",
       "carheight           0.119336\n",
       "aspiration          0.177926\n",
       "enginelocation      0.324973\n",
       "fuelsystem          0.526823\n",
       "boreratio           0.553173\n",
       "wheelbase           0.577816\n",
       "drivewheel          0.577992\n",
       "carlength           0.682920\n",
       "carwidth            0.759325\n",
       "horsepower          0.808139\n",
       "curbweight          0.835305\n",
       "enginesize          0.874145\n",
       "price               1.000000\n",
       "Name: price, dtype: float64"
      ]
     },
     "execution_count": 44,
     "metadata": {},
     "output_type": "execute_result"
    }
   ],
   "source": [
    "# let's see the correlation between all features in the price\n",
    "\n",
    "data1.corr()[\"price\"].sort_values()"
   ]
  },
  {
   "cell_type": "code",
   "execution_count": 45,
   "id": "4f8ed0de",
   "metadata": {
    "execution": {
     "iopub.execute_input": "2022-11-27T19:03:00.311008Z",
     "iopub.status.busy": "2022-11-27T19:03:00.310554Z",
     "iopub.status.idle": "2022-11-27T19:03:00.331376Z",
     "shell.execute_reply": "2022-11-27T19:03:00.330168Z"
    },
    "papermill": {
     "duration": 0.060254,
     "end_time": "2022-11-27T19:03:00.333658",
     "exception": false,
     "start_time": "2022-11-27T19:03:00.273404",
     "status": "completed"
    },
    "tags": []
   },
   "outputs": [
    {
     "data": {
      "text/html": [
       "<div>\n",
       "<style scoped>\n",
       "    .dataframe tbody tr th:only-of-type {\n",
       "        vertical-align: middle;\n",
       "    }\n",
       "\n",
       "    .dataframe tbody tr th {\n",
       "        vertical-align: top;\n",
       "    }\n",
       "\n",
       "    .dataframe thead th {\n",
       "        text-align: right;\n",
       "    }\n",
       "</style>\n",
       "<table border=\"1\" class=\"dataframe\">\n",
       "  <thead>\n",
       "    <tr style=\"text-align: right;\">\n",
       "      <th></th>\n",
       "      <th>highwaympg</th>\n",
       "      <th>citympg</th>\n",
       "      <th>CarName</th>\n",
       "      <th>enginelocation</th>\n",
       "      <th>fuelsystem</th>\n",
       "      <th>boreratio</th>\n",
       "      <th>wheelbase</th>\n",
       "      <th>drivewheel</th>\n",
       "      <th>carlength</th>\n",
       "      <th>carwidth</th>\n",
       "      <th>horsepower</th>\n",
       "      <th>curbweight</th>\n",
       "      <th>enginesize</th>\n",
       "      <th>price</th>\n",
       "    </tr>\n",
       "  </thead>\n",
       "  <tbody>\n",
       "    <tr>\n",
       "      <th>0</th>\n",
       "      <td>27</td>\n",
       "      <td>21</td>\n",
       "      <td>2</td>\n",
       "      <td>0</td>\n",
       "      <td>5</td>\n",
       "      <td>3.47</td>\n",
       "      <td>88.6</td>\n",
       "      <td>2</td>\n",
       "      <td>168.8</td>\n",
       "      <td>64.1</td>\n",
       "      <td>111</td>\n",
       "      <td>2548</td>\n",
       "      <td>130</td>\n",
       "      <td>13495.0</td>\n",
       "    </tr>\n",
       "    <tr>\n",
       "      <th>1</th>\n",
       "      <td>27</td>\n",
       "      <td>21</td>\n",
       "      <td>3</td>\n",
       "      <td>0</td>\n",
       "      <td>5</td>\n",
       "      <td>3.47</td>\n",
       "      <td>88.6</td>\n",
       "      <td>2</td>\n",
       "      <td>168.8</td>\n",
       "      <td>64.1</td>\n",
       "      <td>111</td>\n",
       "      <td>2548</td>\n",
       "      <td>130</td>\n",
       "      <td>16500.0</td>\n",
       "    </tr>\n",
       "    <tr>\n",
       "      <th>2</th>\n",
       "      <td>26</td>\n",
       "      <td>19</td>\n",
       "      <td>1</td>\n",
       "      <td>0</td>\n",
       "      <td>5</td>\n",
       "      <td>2.68</td>\n",
       "      <td>94.5</td>\n",
       "      <td>2</td>\n",
       "      <td>171.2</td>\n",
       "      <td>65.5</td>\n",
       "      <td>154</td>\n",
       "      <td>2823</td>\n",
       "      <td>152</td>\n",
       "      <td>16500.0</td>\n",
       "    </tr>\n",
       "    <tr>\n",
       "      <th>3</th>\n",
       "      <td>30</td>\n",
       "      <td>24</td>\n",
       "      <td>4</td>\n",
       "      <td>0</td>\n",
       "      <td>5</td>\n",
       "      <td>3.19</td>\n",
       "      <td>99.8</td>\n",
       "      <td>1</td>\n",
       "      <td>176.6</td>\n",
       "      <td>66.2</td>\n",
       "      <td>102</td>\n",
       "      <td>2337</td>\n",
       "      <td>109</td>\n",
       "      <td>13950.0</td>\n",
       "    </tr>\n",
       "    <tr>\n",
       "      <th>4</th>\n",
       "      <td>22</td>\n",
       "      <td>18</td>\n",
       "      <td>5</td>\n",
       "      <td>0</td>\n",
       "      <td>5</td>\n",
       "      <td>3.19</td>\n",
       "      <td>99.4</td>\n",
       "      <td>0</td>\n",
       "      <td>176.6</td>\n",
       "      <td>66.4</td>\n",
       "      <td>115</td>\n",
       "      <td>2824</td>\n",
       "      <td>136</td>\n",
       "      <td>17450.0</td>\n",
       "    </tr>\n",
       "  </tbody>\n",
       "</table>\n",
       "</div>"
      ],
      "text/plain": [
       "   highwaympg  citympg  CarName  enginelocation  fuelsystem  boreratio  \\\n",
       "0          27       21        2               0           5       3.47   \n",
       "1          27       21        3               0           5       3.47   \n",
       "2          26       19        1               0           5       2.68   \n",
       "3          30       24        4               0           5       3.19   \n",
       "4          22       18        5               0           5       3.19   \n",
       "\n",
       "   wheelbase  drivewheel  carlength  carwidth  horsepower  curbweight  \\\n",
       "0       88.6           2      168.8      64.1         111        2548   \n",
       "1       88.6           2      168.8      64.1         111        2548   \n",
       "2       94.5           2      171.2      65.5         154        2823   \n",
       "3       99.8           1      176.6      66.2         102        2337   \n",
       "4       99.4           0      176.6      66.4         115        2824   \n",
       "\n",
       "   enginesize    price  \n",
       "0         130  13495.0  \n",
       "1         130  16500.0  \n",
       "2         152  16500.0  \n",
       "3         109  13950.0  \n",
       "4         136  17450.0  "
      ]
     },
     "execution_count": 45,
     "metadata": {},
     "output_type": "execute_result"
    }
   ],
   "source": [
    "# I want choose this columns because has corr in the price\n",
    "\n",
    "data1=data1[[\"highwaympg\",\"citympg\",\"CarName\",'enginelocation','fuelsystem','boreratio','wheelbase','drivewheel','carlength','carwidth','horsepower','curbweight','enginesize','price']]\n",
    "\n",
    "data1.head()"
   ]
  },
  {
   "cell_type": "markdown",
   "id": "6e47b070",
   "metadata": {
    "papermill": {
     "duration": 0.034931,
     "end_time": "2022-11-27T19:03:00.404883",
     "exception": false,
     "start_time": "2022-11-27T19:03:00.369952",
     "status": "completed"
    },
    "tags": []
   },
   "source": [
    "# Before made Standardscaler"
   ]
  },
  {
   "cell_type": "code",
   "execution_count": 46,
   "id": "8616fa3f",
   "metadata": {
    "execution": {
     "iopub.execute_input": "2022-11-27T19:03:00.479335Z",
     "iopub.status.busy": "2022-11-27T19:03:00.478808Z",
     "iopub.status.idle": "2022-11-27T19:03:00.489521Z",
     "shell.execute_reply": "2022-11-27T19:03:00.488268Z"
    },
    "papermill": {
     "duration": 0.052245,
     "end_time": "2022-11-27T19:03:00.492508",
     "exception": false,
     "start_time": "2022-11-27T19:03:00.440263",
     "status": "completed"
    },
    "tags": []
   },
   "outputs": [
    {
     "name": "stdout",
     "output_type": "stream",
     "text": [
      "X Train :  (143, 13)\n",
      "X Test  :  (62, 13)\n",
      "Y Train :  (143,)\n",
      "Y Test  :  (62,)\n"
     ]
    }
   ],
   "source": [
    "#Defined X value and y value , and split the data train\n",
    "X = data1.drop(columns=\"price\")           \n",
    "y = data1[\"price\"]    # y = price\n",
    "\n",
    "# split the data train and test\n",
    "X_train, X_test, y_train, y_test = train_test_split(X, y, test_size=0.30, random_state=42)\n",
    "\n",
    "print(\"X Train : \", X_train.shape)\n",
    "print(\"X Test  : \", X_test.shape)\n",
    "print(\"Y Train : \", y_train.shape)\n",
    "print(\"Y Test  : \", y_test.shape)"
   ]
  },
  {
   "cell_type": "code",
   "execution_count": 47,
   "id": "c5a9389f",
   "metadata": {
    "execution": {
     "iopub.execute_input": "2022-11-27T19:03:00.566412Z",
     "iopub.status.busy": "2022-11-27T19:03:00.565931Z",
     "iopub.status.idle": "2022-11-27T19:03:00.571770Z",
     "shell.execute_reply": "2022-11-27T19:03:00.570678Z"
    },
    "papermill": {
     "duration": 0.045098,
     "end_time": "2022-11-27T19:03:00.573882",
     "exception": false,
     "start_time": "2022-11-27T19:03:00.528784",
     "status": "completed"
    },
    "tags": []
   },
   "outputs": [],
   "source": [
    "#Defined object from library Regression \n",
    "\n",
    "LR = LinearRegression()\n",
    "DTR = DecisionTreeRegressor()\n",
    "RFR = RandomForestRegressor()\n",
    "KNR = KNeighborsRegressor()\n",
    "MLP = MLPRegressor()\n",
    "XGB = XGBRegressor()"
   ]
  },
  {
   "cell_type": "code",
   "execution_count": 48,
   "id": "6ad674c3",
   "metadata": {
    "execution": {
     "iopub.execute_input": "2022-11-27T19:03:00.647424Z",
     "iopub.status.busy": "2022-11-27T19:03:00.646912Z",
     "iopub.status.idle": "2022-11-27T19:03:01.230221Z",
     "shell.execute_reply": "2022-11-27T19:03:01.228515Z"
    },
    "papermill": {
     "duration": 0.624418,
     "end_time": "2022-11-27T19:03:01.233987",
     "exception": false,
     "start_time": "2022-11-27T19:03:00.609569",
     "status": "completed"
    },
    "tags": []
   },
   "outputs": [
    {
     "name": "stdout",
     "output_type": "stream",
     "text": [
      "LinearRegression() : 85.2375366417536\n",
      "DecisionTreeRegressor() : 85.52874449353948\n",
      "RandomForestRegressor() : 94.2500563588974\n",
      "KNeighborsRegressor() : 76.12398013734366\n",
      "KNeighborsRegressor() : 76.12398013734366\n",
      "XGBRegressor(base_score=0.5, booster='gbtree', callbacks=None,\n",
      "             colsample_bylevel=1, colsample_bynode=1, colsample_bytree=1,\n",
      "             early_stopping_rounds=None, enable_categorical=False,\n",
      "             eval_metric=None, gamma=0, gpu_id=-1, grow_policy='depthwise',\n",
      "             importance_type=None, interaction_constraints='',\n",
      "             learning_rate=0.300000012, max_bin=256, max_cat_to_onehot=4,\n",
      "             max_delta_step=0, max_depth=6, max_leaves=0, min_child_weight=1,\n",
      "             missing=nan, monotone_constraints='()', n_estimators=100, n_jobs=0,\n",
      "             num_parallel_tree=1, predictor='auto', random_state=0, reg_alpha=0,\n",
      "             reg_lambda=1, ...) : 90.3448798742138\n"
     ]
    }
   ],
   "source": [
    "# make for loop for Regression \n",
    "\n",
    "li = [LR,DTR,RFR,KNR,KNR,XGB]\n",
    "d = {}\n",
    "for i in li:\n",
    "    i.fit(X_train,y_train)\n",
    "    ypred = i.predict(X_test)\n",
    "    print(i,\":\",r2_score(y_test,ypred)*100)\n",
    "    d.update({str(i):i.score(X_test,y_test)*100})"
   ]
  },
  {
   "cell_type": "code",
   "execution_count": 49,
   "id": "4315cf31",
   "metadata": {
    "execution": {
     "iopub.execute_input": "2022-11-27T19:03:01.309709Z",
     "iopub.status.busy": "2022-11-27T19:03:01.309255Z",
     "iopub.status.idle": "2022-11-27T19:03:01.659350Z",
     "shell.execute_reply": "2022-11-27T19:03:01.658146Z"
    },
    "papermill": {
     "duration": 0.389759,
     "end_time": "2022-11-27T19:03:01.661826",
     "exception": false,
     "start_time": "2022-11-27T19:03:01.272067",
     "status": "completed"
    },
    "tags": []
   },
   "outputs": [
    {
     "data": {
      "image/png": "[encoded data removed]",
      "text/plain": [
       "<Figure size 2160x432 with 1 Axes>"
      ]
     },
     "metadata": {
      "needs_background": "light"
     },
     "output_type": "display_data"
    }
   ],
   "source": [
    "# make graph about Accuracy\n",
    "\n",
    "plt.figure(figsize=(30, 6))\n",
    "plt.title(\"Algorithm vs Accuracy\")\n",
    "plt.xlabel(\"Algorithm\")\n",
    "plt.ylabel(\"Accuracy\")\n",
    "plt.plot(d.keys(),d.values(),marker='o',color='red')\n",
    "plt.show()"
   ]
  },
  {
   "cell_type": "markdown",
   "id": "7ecab4cb",
   "metadata": {
    "papermill": {
     "duration": 0.037736,
     "end_time": "2022-11-27T19:03:01.737896",
     "exception": false,
     "start_time": "2022-11-27T19:03:01.700160",
     "status": "completed"
    },
    "tags": []
   },
   "source": [
    "- LinearRegression = 85.2\n",
    "- DecisionTreeRegressor = 84.9\n",
    "- RandomForestRegressor = 93.9\n",
    "- KNeighborsRegressor = 76.1\n",
    "- KNeighborsRegressor = 76.1\n",
    "- XGBRegressor = 90.3"
   ]
  },
  {
   "cell_type": "markdown",
   "id": "d8100536",
   "metadata": {
    "papermill": {
     "duration": 0.037584,
     "end_time": "2022-11-27T19:03:01.813399",
     "exception": false,
     "start_time": "2022-11-27T19:03:01.775815",
     "status": "completed"
    },
    "tags": []
   },
   "source": [
    "# After made Standardscaler"
   ]
  },
  {
   "cell_type": "code",
   "execution_count": 50,
   "id": "343ba1cc",
   "metadata": {
    "execution": {
     "iopub.execute_input": "2022-11-27T19:03:01.889760Z",
     "iopub.status.busy": "2022-11-27T19:03:01.889333Z",
     "iopub.status.idle": "2022-11-27T19:03:01.909121Z",
     "shell.execute_reply": "2022-11-27T19:03:01.907860Z"
    },
    "papermill": {
     "duration": 0.060369,
     "end_time": "2022-11-27T19:03:01.911516",
     "exception": false,
     "start_time": "2022-11-27T19:03:01.851147",
     "status": "completed"
    },
    "tags": []
   },
   "outputs": [
    {
     "data": {
      "text/html": [
       "<div>\n",
       "<style scoped>\n",
       "    .dataframe tbody tr th:only-of-type {\n",
       "        vertical-align: middle;\n",
       "    }\n",
       "\n",
       "    .dataframe tbody tr th {\n",
       "        vertical-align: top;\n",
       "    }\n",
       "\n",
       "    .dataframe thead th {\n",
       "        text-align: right;\n",
       "    }\n",
       "</style>\n",
       "<table border=\"1\" class=\"dataframe\">\n",
       "  <thead>\n",
       "    <tr style=\"text-align: right;\">\n",
       "      <th></th>\n",
       "      <th>highwaympg</th>\n",
       "      <th>citympg</th>\n",
       "      <th>CarName</th>\n",
       "      <th>enginelocation</th>\n",
       "      <th>fuelsystem</th>\n",
       "      <th>boreratio</th>\n",
       "      <th>wheelbase</th>\n",
       "      <th>drivewheel</th>\n",
       "      <th>carlength</th>\n",
       "      <th>carwidth</th>\n",
       "      <th>horsepower</th>\n",
       "      <th>curbweight</th>\n",
       "      <th>enginesize</th>\n",
       "      <th>price</th>\n",
       "    </tr>\n",
       "  </thead>\n",
       "  <tbody>\n",
       "    <tr>\n",
       "      <th>0</th>\n",
       "      <td>27</td>\n",
       "      <td>21</td>\n",
       "      <td>2</td>\n",
       "      <td>0</td>\n",
       "      <td>5</td>\n",
       "      <td>3.47</td>\n",
       "      <td>88.6</td>\n",
       "      <td>2</td>\n",
       "      <td>168.8</td>\n",
       "      <td>64.1</td>\n",
       "      <td>111</td>\n",
       "      <td>2548</td>\n",
       "      <td>130</td>\n",
       "      <td>13495.0</td>\n",
       "    </tr>\n",
       "    <tr>\n",
       "      <th>1</th>\n",
       "      <td>27</td>\n",
       "      <td>21</td>\n",
       "      <td>3</td>\n",
       "      <td>0</td>\n",
       "      <td>5</td>\n",
       "      <td>3.47</td>\n",
       "      <td>88.6</td>\n",
       "      <td>2</td>\n",
       "      <td>168.8</td>\n",
       "      <td>64.1</td>\n",
       "      <td>111</td>\n",
       "      <td>2548</td>\n",
       "      <td>130</td>\n",
       "      <td>16500.0</td>\n",
       "    </tr>\n",
       "    <tr>\n",
       "      <th>2</th>\n",
       "      <td>26</td>\n",
       "      <td>19</td>\n",
       "      <td>1</td>\n",
       "      <td>0</td>\n",
       "      <td>5</td>\n",
       "      <td>2.68</td>\n",
       "      <td>94.5</td>\n",
       "      <td>2</td>\n",
       "      <td>171.2</td>\n",
       "      <td>65.5</td>\n",
       "      <td>154</td>\n",
       "      <td>2823</td>\n",
       "      <td>152</td>\n",
       "      <td>16500.0</td>\n",
       "    </tr>\n",
       "    <tr>\n",
       "      <th>3</th>\n",
       "      <td>30</td>\n",
       "      <td>24</td>\n",
       "      <td>4</td>\n",
       "      <td>0</td>\n",
       "      <td>5</td>\n",
       "      <td>3.19</td>\n",
       "      <td>99.8</td>\n",
       "      <td>1</td>\n",
       "      <td>176.6</td>\n",
       "      <td>66.2</td>\n",
       "      <td>102</td>\n",
       "      <td>2337</td>\n",
       "      <td>109</td>\n",
       "      <td>13950.0</td>\n",
       "    </tr>\n",
       "    <tr>\n",
       "      <th>4</th>\n",
       "      <td>22</td>\n",
       "      <td>18</td>\n",
       "      <td>5</td>\n",
       "      <td>0</td>\n",
       "      <td>5</td>\n",
       "      <td>3.19</td>\n",
       "      <td>99.4</td>\n",
       "      <td>0</td>\n",
       "      <td>176.6</td>\n",
       "      <td>66.4</td>\n",
       "      <td>115</td>\n",
       "      <td>2824</td>\n",
       "      <td>136</td>\n",
       "      <td>17450.0</td>\n",
       "    </tr>\n",
       "  </tbody>\n",
       "</table>\n",
       "</div>"
      ],
      "text/plain": [
       "   highwaympg  citympg  CarName  enginelocation  fuelsystem  boreratio  \\\n",
       "0          27       21        2               0           5       3.47   \n",
       "1          27       21        3               0           5       3.47   \n",
       "2          26       19        1               0           5       2.68   \n",
       "3          30       24        4               0           5       3.19   \n",
       "4          22       18        5               0           5       3.19   \n",
       "\n",
       "   wheelbase  drivewheel  carlength  carwidth  horsepower  curbweight  \\\n",
       "0       88.6           2      168.8      64.1         111        2548   \n",
       "1       88.6           2      168.8      64.1         111        2548   \n",
       "2       94.5           2      171.2      65.5         154        2823   \n",
       "3       99.8           1      176.6      66.2         102        2337   \n",
       "4       99.4           0      176.6      66.4         115        2824   \n",
       "\n",
       "   enginesize    price  \n",
       "0         130  13495.0  \n",
       "1         130  16500.0  \n",
       "2         152  16500.0  \n",
       "3         109  13950.0  \n",
       "4         136  17450.0  "
      ]
     },
     "execution_count": 50,
     "metadata": {},
     "output_type": "execute_result"
    }
   ],
   "source": [
    "data1.head()"
   ]
  },
  {
   "cell_type": "code",
   "execution_count": 51,
   "id": "552a5be5",
   "metadata": {
    "execution": {
     "iopub.execute_input": "2022-11-27T19:03:01.989969Z",
     "iopub.status.busy": "2022-11-27T19:03:01.988680Z",
     "iopub.status.idle": "2022-11-27T19:03:01.994676Z",
     "shell.execute_reply": "2022-11-27T19:03:01.993737Z"
    },
    "papermill": {
     "duration": 0.047377,
     "end_time": "2022-11-27T19:03:01.996927",
     "exception": false,
     "start_time": "2022-11-27T19:03:01.949550",
     "status": "completed"
    },
    "tags": []
   },
   "outputs": [],
   "source": [
    "Sc_data=data1.copy()"
   ]
  },
  {
   "cell_type": "code",
   "execution_count": 52,
   "id": "1779fe7d",
   "metadata": {
    "execution": {
     "iopub.execute_input": "2022-11-27T19:03:02.075370Z",
     "iopub.status.busy": "2022-11-27T19:03:02.074883Z",
     "iopub.status.idle": "2022-11-27T19:03:02.088547Z",
     "shell.execute_reply": "2022-11-27T19:03:02.087427Z"
    },
    "papermill": {
     "duration": 0.055096,
     "end_time": "2022-11-27T19:03:02.090779",
     "exception": false,
     "start_time": "2022-11-27T19:03:02.035683",
     "status": "completed"
    },
    "tags": []
   },
   "outputs": [
    {
     "data": {
      "text/plain": [
       "array([[-0.54605874, -0.64655303, -1.83822103, ...,  0.17448278,\n",
       "        -0.01456628,  0.07444893],\n",
       "       [-0.54605874, -0.64655303, -1.81377978, ...,  0.17448278,\n",
       "        -0.01456628,  0.07444893],\n",
       "       [-0.69162706, -0.95301169, -1.86266229, ...,  1.26453643,\n",
       "         0.51488192,  0.60404617],\n",
       "       ...,\n",
       "       [-1.12833203, -1.10624102,  1.53467254, ...,  0.75753473,\n",
       "         0.87875722,  1.10957081],\n",
       "       [-0.54605874,  0.11959362,  1.58355505, ...,  0.04773235,\n",
       "         1.27343679,  0.43553795],\n",
       "       [-0.83719538, -0.95301169,  1.60799631, ...,  0.25053303,\n",
       "         0.97502053,  0.33924755]])"
      ]
     },
     "execution_count": 52,
     "metadata": {},
     "output_type": "execute_result"
    }
   ],
   "source": [
    "#Defined X value and y value , and split the data train\n",
    "A = Sc_data.drop(columns=\"price\")           \n",
    "b = Sc_data[\"price\"]    # y = price\n",
    "\n",
    "Scaler= StandardScaler()\n",
    "A=Scaler.fit_transform(A)\n",
    "A"
   ]
  },
  {
   "cell_type": "code",
   "execution_count": 53,
   "id": "3cb70750",
   "metadata": {
    "execution": {
     "iopub.execute_input": "2022-11-27T19:03:02.168246Z",
     "iopub.status.busy": "2022-11-27T19:03:02.167401Z",
     "iopub.status.idle": "2022-11-27T19:03:02.176537Z",
     "shell.execute_reply": "2022-11-27T19:03:02.175001Z"
    },
    "papermill": {
     "duration": 0.050746,
     "end_time": "2022-11-27T19:03:02.179015",
     "exception": false,
     "start_time": "2022-11-27T19:03:02.128269",
     "status": "completed"
    },
    "tags": []
   },
   "outputs": [
    {
     "name": "stdout",
     "output_type": "stream",
     "text": [
      "X Train Scaler :  (143, 13)\n",
      "X Test Scaler :  (62, 13)\n",
      "Y Train Scaler :  (143,)\n",
      "Y Test  Scaler :  (62,)\n"
     ]
    }
   ],
   "source": [
    "# split the data train and test\n",
    "X_train_s, X_test_s, y_train_s, y_test_s = train_test_split(A, b, test_size=0.30, random_state=42)\n",
    "\n",
    "print(\"X Train Scaler : \", X_train_s.shape)\n",
    "print(\"X Test Scaler : \", X_test_s.shape)\n",
    "print(\"Y Train Scaler : \", y_train_s.shape)\n",
    "print(\"Y Test  Scaler : \", y_test_s.shape)"
   ]
  },
  {
   "cell_type": "code",
   "execution_count": 54,
   "id": "89cac593",
   "metadata": {
    "execution": {
     "iopub.execute_input": "2022-11-27T19:03:02.258340Z",
     "iopub.status.busy": "2022-11-27T19:03:02.257016Z",
     "iopub.status.idle": "2022-11-27T19:03:02.901267Z",
     "shell.execute_reply": "2022-11-27T19:03:02.900156Z"
    },
    "papermill": {
     "duration": 0.686991,
     "end_time": "2022-11-27T19:03:02.903973",
     "exception": false,
     "start_time": "2022-11-27T19:03:02.216982",
     "status": "completed"
    },
    "tags": []
   },
   "outputs": [
    {
     "name": "stdout",
     "output_type": "stream",
     "text": [
      "LinearRegression() : 85.23753664175347\n",
      "DecisionTreeRegressor() : 85.04922553095719\n",
      "RandomForestRegressor() : 93.98479266090338\n",
      "KNeighborsRegressor() : 84.91365840631477\n",
      "KNeighborsRegressor() : 84.91365840631477\n",
      "XGBRegressor(base_score=0.5, booster='gbtree', callbacks=None,\n",
      "             colsample_bylevel=1, colsample_bynode=1, colsample_bytree=1,\n",
      "             early_stopping_rounds=None, enable_categorical=False,\n",
      "             eval_metric=None, gamma=0, gpu_id=-1, grow_policy='depthwise',\n",
      "             importance_type=None, interaction_constraints='',\n",
      "             learning_rate=0.300000012, max_bin=256, max_cat_to_onehot=4,\n",
      "             max_delta_step=0, max_depth=6, max_leaves=0, min_child_weight=1,\n",
      "             missing=nan, monotone_constraints='()', n_estimators=100, n_jobs=0,\n",
      "             num_parallel_tree=1, predictor='auto', random_state=0, reg_alpha=0,\n",
      "             reg_lambda=1, ...) : 90.34301927131914\n"
     ]
    }
   ],
   "source": [
    "# make for loop for Regression \n",
    "\n",
    "li = [LR,DTR,RFR,KNR,KNR,XGB]\n",
    "q = {}\n",
    "for i in li:\n",
    "    i.fit(X_train_s,y_train_s)\n",
    "    ypred_s = i.predict(X_test_s)\n",
    "    print(i,\":\",r2_score(y_test_s,ypred_s)*100)\n",
    "    q.update({str(i):i.score(X_test_s,y_test_s)*100})"
   ]
  },
  {
   "cell_type": "markdown",
   "id": "3d280380",
   "metadata": {
    "papermill": {
     "duration": 0.039216,
     "end_time": "2022-11-27T19:03:02.981383",
     "exception": false,
     "start_time": "2022-11-27T19:03:02.942167",
     "status": "completed"
    },
    "tags": []
   },
   "source": [
    "- LinearRegression = 85.2\n",
    "- DecisionTreeRegressor = 84.29\n",
    "- RandomForestRegressor = 93.7\n",
    "- KNeighborsRegressor = 84.9\n",
    "- KNeighborsRegressor = 84.9\n",
    "- XGBRegressor = 90.3"
   ]
  },
  {
   "cell_type": "markdown",
   "id": "a670afd1",
   "metadata": {
    "papermill": {
     "duration": 0.038164,
     "end_time": "2022-11-27T19:03:03.057730",
     "exception": false,
     "start_time": "2022-11-27T19:03:03.019566",
     "status": "completed"
    },
    "tags": []
   },
   "source": [
    "<a id='top'></a>\n",
    "<div class=\"list-group\" id=\"list-tab\" role=\"tablist\">\n",
    "<p style=\"background-color:#FFaaff;font-family:sans-serif;color:#FFffxx;font-size:250%;text-align:center;border-radius:15px 15px;\"> Model Selection Results </p>"
   ]
  },
  {
   "cell_type": "markdown",
   "id": "542fae81",
   "metadata": {
    "papermill": {
     "duration": 0.038252,
     "end_time": "2022-11-27T19:03:03.134794",
     "exception": false,
     "start_time": "2022-11-27T19:03:03.096542",
     "status": "completed"
    },
    "tags": []
   },
   "source": [
    "# Model Selection Results 😃😃😃\n",
    "\n",
    "### Before made Standardscaler\n",
    "\n",
    "- LinearRegression = 85.2\n",
    "- DecisionTreeRegressor = 84.9\n",
    "- RandomForestRegressor = 93.9\n",
    "- KNeighborsRegressor = 76.1\n",
    "- KNeighborsRegressor = 76.1\n",
    "- XGBRegressor = 90.3\n",
    "\n",
    "\n",
    "### After made Standardscaler\n",
    "\n",
    "- LinearRegression = 85.2\n",
    "- DecisionTreeRegressor = 84.29\n",
    "- RandomForestRegressor = 93.7\n",
    "- KNeighborsRegressor = 84.9\n",
    "- KNeighborsRegressor = 84.9\n",
    "- XGBRegressor = 90.3\n",
    "\n",
    "\n",
    "\n",
    "## So , the best model RandomForestRegressor 93.7\n",
    "\n",
    "\n",
    "# Notes 😃😃😃😃\n",
    "\n",
    "- Thank for reading my analysis and my regression. 😃😃😃😃\n",
    "\n",
    "- If you any questions or advice me please write in the comment . ❤️❤️❤️❤️\n",
    "\n",
    "- If anyone has a model with a higher percentage, please tell me 🤝🤝🤝\n",
    "\n",
    "# Vote ❤️😃\n",
    "\n",
    "<font size=\"+2\" color=red ><b>Please Upvote my kernel if you like my work.</b></font>\n",
    "\n",
    "# The End 🤝🎉🤝🎉"
   ]
  },
  {
   "cell_type": "markdown",
   "id": "0bc3f0e0",
   "metadata": {
    "papermill": {
     "duration": 0.038608,
     "end_time": "2022-11-27T19:03:03.212153",
     "exception": false,
     "start_time": "2022-11-27T19:03:03.173545",
     "status": "completed"
    },
    "tags": []
   },
   "source": [
    "<img src=\"https://media.giphy.com/media/osjgQPWRx3cac/giphy.gif\">"
   ]
  }
 ],
 "metadata": {
  "kernelspec": {
   "display_name": "Python 3",
   "language": "python",
   "name": "python3"
  },
  "language_info": {
   "codemirror_mode": {
    "name": "ipython",
    "version": 3
   },
   "file_extension": ".py",
   "mimetype": "text/x-python",
   "name": "python",
   "nbconvert_exporter": "python",
   "pygments_lexer": "ipython3",
   "version": "3.7.12"
  },
  "papermill": {
   "default_parameters": {},
   "duration": 26.357975,
   "end_time": "2022-11-27T19:03:04.374651",
   "environment_variables": {},
   "exception": null,
   "input_path": "__notebook__.ipynb",
   "output_path": "__notebook__.ipynb",
   "parameters": {},
   "start_time": "2022-11-27T19:02:38.016676",
   "version": "2.3.4"
  }
 },
 "nbformat": 4,
 "nbformat_minor": 5
}
